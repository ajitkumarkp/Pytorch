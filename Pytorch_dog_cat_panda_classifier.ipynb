{
  "nbformat": 4,
  "nbformat_minor": 0,
  "metadata": {
    "kernelspec": {
      "display_name": "Python 3",
      "language": "python",
      "name": "python3"
    },
    "language_info": {
      "codemirror_mode": {
        "name": "ipython",
        "version": 3
      },
      "file_extension": ".py",
      "mimetype": "text/x-python",
      "name": "python",
      "nbconvert_exporter": "python",
      "pygments_lexer": "ipython3",
      "version": "3.7.4"
    },
    "colab": {
      "name": "Pytorch_dog_cat_panda_classifier.ipynb",
      "provenance": [],
      "collapsed_sections": [
        "ZiN8zZcLxz0K",
        "vjgb0vphyFT6"
      ],
      "toc_visible": true,
      "include_colab_link": true
    },
    "accelerator": "GPU"
  },
  "cells": [
    {
      "cell_type": "markdown",
      "metadata": {
        "id": "view-in-github",
        "colab_type": "text"
      },
      "source": [
        "<a href=\"https://colab.research.google.com/github/ajitkumarkp/Pytorch/blob/main/Pytorch_dog_cat_panda_classifier.ipynb\" target=\"_parent\"><img src=\"https://colab.research.google.com/assets/colab-badge.svg\" alt=\"Open In Colab\"/></a>"
      ]
    },
    {
      "cell_type": "markdown",
      "metadata": {
        "id": "TFYEpUNGYD3A"
      },
      "source": [
        "# <font style=\"color:blue\">Project 1 - Part 2: Train an Image Classifier from Scratch</font>\n",
        "As discussed in the previous notebook, the steps for training Neural Networks are:\n",
        "\n",
        "- Step 1 - Understand your problem\n",
        "- Step 2A - Get the data\n",
        "- Step 2B - Explore & Understand your data\n",
        "- Step 2C - Create a sample data from the dataset\n",
        "- Step 3 - Data Preparation\n",
        "- Step 4 - Train a simple model on sample data and check the pipeline before proceeding to train the full network\n",
        "- Step 5 - Train on Full Data\n",
        "- Step 6 - Improve your model\n",
        "\n",
        "You have already gone through Steps 1 through 4 in the previous notebook and you can use them in this notebook as well.\n",
        "\n",
        "In this notebook You will implement Steps 5 & 6 completely from scratch. You should design a model which achieves 85% validation accuracy on the given dataset.\n",
        "\n",
        "There are **70 points** for this notebook. <font style=\"color:red\">The sections which carry marks are written in Red for easy reference.</font>"
      ]
    },
    {
      "cell_type": "markdown",
      "metadata": {
        "id": "xjYE023IYD3D"
      },
      "source": [
        "Since you have received Microsoft Azure Credits, you can use the GPUs for training the network (We will provide instructions on how to set it up in case you are not able to figure it out yourself). After you have completed the assignment, upload and submit it on the portal so that we can check and provide feedback."
      ]
    },
    {
      "cell_type": "markdown",
      "metadata": {
        "id": "x6j2Pk0MYD3E"
      },
      "source": [
        "<font style=\"color:red\">You will use the full data to train the network. You need to achieve 85% accuracy for validation data to successfully complete this assignment.</font>\n",
        "\n",
        "<font style=\"color:red\">As mentioned earlier, you should build your own model and not use any pre-trained models/weights.</font>\n",
        "\n",
        "After you have completed the assignment, <font style=\"color:red\">upload and submit the notebook and the models folder on the portal</font> so that we can check and provide feedback."
      ]
    },
    {
      "cell_type": "markdown",
      "metadata": {
        "id": "ytVtMUIKYD3F"
      },
      "source": [
        "# <font style=\"color:blue\">Step 1: Understand your problem </font>\n",
        "Already covered in previous notebook."
      ]
    },
    {
      "cell_type": "markdown",
      "metadata": {
        "id": "c-56ZUi3YD3G"
      },
      "source": [
        "# <font style=\"color:blue\">Step 2: Get the data </font>\n",
        "Already covered in previous notebook."
      ]
    },
    {
      "cell_type": "code",
      "metadata": {
        "id": "8IadrxTLYD3G"
      },
      "source": [
        "# !wget \"https://www.dropbox.com/sh/n5nya3g3airlub6/AACi7vaUjdTA0t2j_iKWgp4Ra?dl=1\" -O data.zip"
      ],
      "execution_count": null,
      "outputs": []
    },
    {
      "cell_type": "markdown",
      "metadata": {
        "id": "BPVINjrRYD3L"
      },
      "source": [
        "### <font style=\"color:green\">Extract the data</font>"
      ]
    },
    {
      "cell_type": "code",
      "metadata": {
        "id": "JHrmIevhYD3M"
      },
      "source": [
        "# !unzip -q data.zip"
      ],
      "execution_count": null,
      "outputs": []
    },
    {
      "cell_type": "markdown",
      "metadata": {
        "id": "M9u1aKzJYD3Q"
      },
      "source": [
        "# <font style=\"color:blue\">Step 3. Data Preparation</font>\n",
        "Already covered in previous notebook."
      ]
    },
    {
      "cell_type": "code",
      "metadata": {
        "id": "JNxovPsjswbq",
        "colab": {
          "base_uri": "https://localhost:8080/",
          "height": 122
        },
        "outputId": "007f6dc3-3cb9-4141-ee95-f199acf56be5"
      },
      "source": [
        "from google.colab import drive\n",
        "drive.mount('/content/drive')"
      ],
      "execution_count": null,
      "outputs": [
        {
          "output_type": "stream",
          "text": [
            "Go to this URL in a browser: https://accounts.google.com/o/oauth2/auth?client_id=947318989803-6bn6qk8qdgf4n4g3pfee6491hc0brc4i.apps.googleusercontent.com&redirect_uri=urn%3aietf%3awg%3aoauth%3a2.0%3aoob&scope=email%20https%3a%2f%2fwww.googleapis.com%2fauth%2fdocs.test%20https%3a%2f%2fwww.googleapis.com%2fauth%2fdrive%20https%3a%2f%2fwww.googleapis.com%2fauth%2fdrive.photos.readonly%20https%3a%2f%2fwww.googleapis.com%2fauth%2fpeopleapi.readonly&response_type=code\n",
            "\n",
            "Enter your authorization code:\n",
            "··········\n",
            "Mounted at /content/drive\n"
          ],
          "name": "stdout"
        }
      ]
    },
    {
      "cell_type": "code",
      "metadata": {
        "id": "U0nmPVDWzDtK",
        "colab": {
          "base_uri": "https://localhost:8080/",
          "height": 34
        },
        "outputId": "beb588a3-e64f-4bd4-ddb6-1b364453cf1b"
      },
      "source": [
        "%cd /content/drive/My\\ Drive/Colab Notebooks/Pytorch/Proj1_dog_cat_panda/"
      ],
      "execution_count": null,
      "outputs": [
        {
          "output_type": "stream",
          "text": [
            "/content/drive/My Drive/Colab Notebooks/Pytorch/Proj1_dog_cat_panda\n"
          ],
          "name": "stdout"
        }
      ]
    },
    {
      "cell_type": "markdown",
      "metadata": {
        "id": "iLjs2-sfYD3R"
      },
      "source": [
        "## <font style=\"color:blue\">3.1. Import Libraries </font>"
      ]
    },
    {
      "cell_type": "code",
      "metadata": {
        "id": "fM5wUREgYD3S"
      },
      "source": [
        "%matplotlib inline"
      ],
      "execution_count": null,
      "outputs": []
    },
    {
      "cell_type": "code",
      "metadata": {
        "id": "_RBgCSqnYD3V"
      },
      "source": [
        "import matplotlib.pyplot as plt\n",
        "plt.style.use('ggplot')"
      ],
      "execution_count": null,
      "outputs": []
    },
    {
      "cell_type": "code",
      "metadata": {
        "id": "Z_IAIICYYD3Y"
      },
      "source": [
        "import os\n",
        "import time\n",
        "\n",
        "from typing import Iterable\n",
        "from dataclasses import dataclass\n",
        "\n",
        "import numpy as np\n",
        "import torch\n",
        "import torch.nn as nn\n",
        "import torch.optim as optim\n",
        "import torch.nn.functional as F\n",
        "\n",
        "from torchvision import datasets, transforms\n",
        "\n",
        "from torch.optim import lr_scheduler"
      ],
      "execution_count": null,
      "outputs": []
    },
    {
      "cell_type": "markdown",
      "metadata": {
        "id": "U-VnIjwrYD3b"
      },
      "source": [
        "### <font style=\"color:green\">3.2.1. Compulsary preprocessing transforms</font>"
      ]
    },
    {
      "cell_type": "code",
      "metadata": {
        "id": "_yE9pqe-YD3c"
      },
      "source": [
        "def image_preprocess_transforms():\n",
        "    \n",
        "    preprocess = transforms.Compose([\n",
        "        transforms.Resize(256),\n",
        "        transforms.CenterCrop(224),\n",
        "        transforms.ToTensor()\n",
        "        ])\n",
        "    \n",
        "    return preprocess"
      ],
      "execution_count": null,
      "outputs": []
    },
    {
      "cell_type": "markdown",
      "metadata": {
        "id": "h5c3k9EfYD3f"
      },
      "source": [
        "### <font style=\"color:green\">3.2.2. Common Image Transforms</font>"
      ]
    },
    {
      "cell_type": "code",
      "metadata": {
        "id": "xpR-6ma_YD3g"
      },
      "source": [
        "def image_common_transforms(mean=(0.4611, 0.4359, 0.3905), std=(0.2193, 0.2150, 0.2109)):\n",
        "    preprocess = image_preprocess_transforms()\n",
        "    \n",
        "    common_transforms = transforms.Compose([\n",
        "        preprocess,\n",
        "        transforms.Normalize(mean, std)\n",
        "    ])\n",
        "    \n",
        "    return common_transforms\n",
        "    "
      ],
      "execution_count": null,
      "outputs": []
    },
    {
      "cell_type": "markdown",
      "metadata": {
        "id": "QWa_BJRKS-am"
      },
      "source": [
        "Data Augmentation and Normalization"
      ]
    },
    {
      "cell_type": "code",
      "metadata": {
        "id": "RXJcMsntNdUr"
      },
      "source": [
        "def data_augmentation_preprocess(mean, std):\n",
        "\n",
        "  train_transforms = transforms.Compose([\n",
        "                transforms.Resize(256),\n",
        "                transforms.CenterCrop(224),\n",
        "                transforms.RandomChoice([\n",
        "                  transforms.RandomHorizontalFlip(),\n",
        "                  transforms.RandomVerticalFlip(),\n",
        "                  transforms.RandomAffine(degrees=10, translate=None, scale=None,shear=30, resample=False, fillcolor=2),\n",
        "                  transforms.RandomGrayscale(p=0.2),\n",
        "                  transforms.ColorJitter(brightness=0.5, contrast=0.5, saturation=0.5, hue=0.5),\n",
        "                  transforms.RandomRotation(20),\n",
        "                  transforms.RandomCrop(224)\n",
        "            ]),\n",
        "            transforms.ToTensor(),\n",
        "            transforms.Normalize(mean, std)\n",
        "        ])\n",
        "  return train_transforms"
      ],
      "execution_count": null,
      "outputs": []
    },
    {
      "cell_type": "markdown",
      "metadata": {
        "id": "Oed8jJ1UYD3j"
      },
      "source": [
        "### <font style=\"color:green\">3.2.3. Mean and STD</font>"
      ]
    },
    {
      "cell_type": "code",
      "metadata": {
        "id": "CQ5UK6eWYD3j"
      },
      "source": [
        "def get_mean_std(data_root, num_workers=4):\n",
        "    \n",
        "    transform = image_preprocess_transforms()\n",
        "    \n",
        "    loader = data_loader(data_root, transform)\n",
        "\n",
        "    mean = 0.\n",
        "    std = 0.\n",
        "    \n",
        "    for images, _ in loader:\n",
        "        batch_samples = images.size(0) # batch size (the last batch can have smaller size!)\n",
        "        images = images.view(batch_samples, images.size(1), -1)\n",
        "        mean += images.mean(2).sum(0)\n",
        "        std += images.std(2).sum(0)\n",
        "\n",
        "    mean /= len(loader.dataset)\n",
        "    std /= len(loader.dataset)\n",
        "    \n",
        "    print('mean: {}, std: {}'.format(mean, std))\n",
        "    \n",
        "    return mean, std"
      ],
      "execution_count": null,
      "outputs": []
    },
    {
      "cell_type": "markdown",
      "metadata": {
        "id": "e1hu9pbeYD3o"
      },
      "source": [
        "## <font style=\"color:blue\">3.3. Data Loaders </font>"
      ]
    },
    {
      "cell_type": "markdown",
      "metadata": {
        "id": "sLlO4-K_YD3o"
      },
      "source": [
        "### <font style=\"color:green\">3.3.1. Data Loader for Full Data</font>\n",
        "Data loader for generating batches of data to be used by the training routine"
      ]
    },
    {
      "cell_type": "code",
      "metadata": {
        "id": "0ulq7fQrYD3o"
      },
      "source": [
        "def data_loader(data_root, transform, batch_size=16, shuffle=False, num_workers=2):\n",
        "    dataset = datasets.ImageFolder(root=data_root, transform=transform)\n",
        "    \n",
        "    loader = torch.utils.data.DataLoader(dataset, \n",
        "                                         batch_size=batch_size,\n",
        "                                         num_workers=num_workers,\n",
        "                                         shuffle=shuffle)\n",
        "    \n",
        "    return loader"
      ],
      "execution_count": null,
      "outputs": []
    },
    {
      "cell_type": "markdown",
      "metadata": {
        "id": "WDuMpFDdYD3s"
      },
      "source": [
        "## <font style=\"color:green\">3.4. Prepare Data</font>\n",
        "The main function which uses all the above functions to generate the train and test dataloaders.\n"
      ]
    },
    {
      "cell_type": "code",
      "metadata": {
        "id": "o8rcBL7aYD3s"
      },
      "source": [
        "def get_data(batch_size, data_root, num_workers=4, data_augmentation=False):\n",
        "  #     YOUR CODE HERE\n",
        "    train_data_path = os.path.join(data_root, 'training')\n",
        "       \n",
        "    mean, std = get_mean_std(data_root=train_data_path, num_workers=num_workers)\n",
        "    \n",
        "    common_transforms = image_common_transforms(mean, std)\n",
        "        \n",
        "    # if data_augmentation is true \n",
        "    # data augmentation implementation\n",
        "    if data_augmentation:    \n",
        "        train_transforms = data_augmentation_preprocess(mean, std)\n",
        "    # else do common transforms\n",
        "    else:\n",
        "        train_transforms = common_transforms\n",
        "      \n",
        "        \n",
        "    # train dataloader\n",
        "    \n",
        "    train_loader = data_loader(train_data_path, \n",
        "                               train_transforms, \n",
        "                               batch_size=batch_size, \n",
        "                               shuffle=True, \n",
        "                               num_workers=num_workers)\n",
        "    \n",
        "    # test dataloader\n",
        "    \n",
        "    test_data_path = os.path.join(data_root, 'validation')\n",
        "    \n",
        "    test_loader = data_loader(test_data_path, \n",
        "                              train_transforms, \n",
        "                              batch_size=batch_size, \n",
        "                              shuffle=False, \n",
        "                              num_workers=num_workers)\n",
        "    \n",
        "    return train_loader, test_loader"
      ],
      "execution_count": null,
      "outputs": []
    },
    {
      "cell_type": "markdown",
      "metadata": {
        "id": "0021DblCYD3v"
      },
      "source": [
        "# <font style=\"color:blue\">Step 4: Train your Model</font>\n",
        "It is time to create the training pipeline and train your model on the full data. "
      ]
    },
    {
      "cell_type": "markdown",
      "metadata": {
        "id": "iHYCw4ILYD3w"
      },
      "source": [
        "## <font style=\"color:red\">4.1. Configurations [20 Points]</font>\n",
        "You need to make changes to the configurations. To achieve good results the parameters given in these configurations needs to be changed. You get 10 points for making the right choices."
      ]
    },
    {
      "cell_type": "markdown",
      "metadata": {
        "id": "XltUJFIuYD3w"
      },
      "source": [
        "### <font style=\"color:green\">4.1.1. System Configuration</font>\n",
        "**DO NOT CHANGE** the seed from 21. We will not be able to grade your project if that happens."
      ]
    },
    {
      "cell_type": "code",
      "metadata": {
        "id": "Vikux5qvYD3x"
      },
      "source": [
        "@dataclass\n",
        "class SystemConfiguration:\n",
        "    '''\n",
        "    Describes the common system setting needed for reproducible training\n",
        "    '''\n",
        "    seed: int = 21  # seed number to set the state of all random number generators\n",
        "    cudnn_benchmark_enabled: bool = True  # enable CuDNN benchmark for the sake of performance\n",
        "    cudnn_deterministic: bool = True  # make cudnn deterministic (reproducible training)"
      ],
      "execution_count": null,
      "outputs": []
    },
    {
      "cell_type": "markdown",
      "metadata": {
        "id": "a5h9sVVpYD3z"
      },
      "source": [
        "### <font style=\"color:green\">4.1.2. Training Configuration</font>"
      ]
    },
    {
      "cell_type": "code",
      "metadata": {
        "id": "pNR6hUXtYD30"
      },
      "source": [
        "@dataclass\n",
        "class TrainingConfiguration:\n",
        "    '''\n",
        "    Describes configuration of the training process\n",
        "    '''\n",
        "    batch_size: int = 24 \n",
        "    epochs_count: int = 100  \n",
        "    init_learning_rate: float = 0.0002  # initial learning rate for lr scheduler\n",
        "    decay_rate: float = 0.1  \n",
        "    log_interval: int = 5  \n",
        "    test_interval: int = 1  \n",
        "    data_root: str = \"./cat-dog-panda\" \n",
        "    num_workers: int = 2  \n",
        "    device: str = 'cuda'  \n",
        "    \n"
      ],
      "execution_count": null,
      "outputs": []
    },
    {
      "cell_type": "markdown",
      "metadata": {
        "id": "t5wjmB5vYD35"
      },
      "source": [
        "### <font style=\"color:green\">4.1.3. System Setup</font>"
      ]
    },
    {
      "cell_type": "code",
      "metadata": {
        "id": "89Y5gBMGYD35"
      },
      "source": [
        "def setup_system(system_config: SystemConfiguration) -> None:\n",
        "    torch.manual_seed(system_config.seed)\n",
        "    if torch.cuda.is_available():\n",
        "        torch.backends.cudnn_benchmark_enabled = system_config.cudnn_benchmark_enabled\n",
        "        torch.backends.cudnn.deterministic = system_config.cudnn_deterministic"
      ],
      "execution_count": null,
      "outputs": []
    },
    {
      "cell_type": "markdown",
      "metadata": {
        "id": "ez41lJ0JYD3_"
      },
      "source": [
        "## <font style=\"color:blue\">4.2. Training Function</font>\n",
        "We are already familiar with the training function. You won't need to make any changes to this."
      ]
    },
    {
      "cell_type": "code",
      "metadata": {
        "id": "iJFhFTTDYD4A"
      },
      "source": [
        "def train(\n",
        "    train_config: TrainingConfiguration, model: nn.Module, optimizer: torch.optim.Optimizer,\n",
        "    train_loader: torch.utils.data.DataLoader, epoch_idx: int\n",
        ") -> None:\n",
        "    \n",
        "    # change model in training mood\n",
        "    model.train()\n",
        "    \n",
        "    # to get batch loss\n",
        "    batch_loss = np.array([])\n",
        "    \n",
        "    # to get batch accuracy\n",
        "    batch_acc = np.array([])\n",
        "        \n",
        "    for batch_idx, (data, target) in enumerate(train_loader):\n",
        "        \n",
        "        # clone target\n",
        "        indx_target = target.clone()\n",
        "        # send data to device (its is medatory if GPU has to be used)\n",
        "        data = data.to(train_config.device)\n",
        "        # send target to device\n",
        "        target = target.to(train_config.device)\n",
        "\n",
        "        # reset parameters gradient to zero\n",
        "        optimizer.zero_grad()\n",
        "        \n",
        "        # forward pass to the model\n",
        "        output = model(data)\n",
        "        \n",
        "        # cross entropy loss\n",
        "        loss = F.cross_entropy(output, target)\n",
        "        \n",
        "        # find gradients w.r.t training parameters\n",
        "        loss.backward()\n",
        "        # Update parameters using gardients\n",
        "        optimizer.step()\n",
        "        \n",
        "        batch_loss = np.append(batch_loss, [loss.item()])\n",
        "        \n",
        "        # Score to probability using softmax\n",
        "        prob = F.softmax(output, dim=1)\n",
        "            \n",
        "        # get the index of the max probability\n",
        "        pred = prob.data.max(dim=1)[1]  \n",
        "                        \n",
        "        # correct prediction\n",
        "        correct = pred.cpu().eq(indx_target).sum()\n",
        "            \n",
        "        # accuracy\n",
        "        acc = float(correct) / float(len(data))\n",
        "        \n",
        "        batch_acc = np.append(batch_acc, [acc])\n",
        "            \n",
        "    epoch_loss = batch_loss.mean()\n",
        "    epoch_acc = batch_acc.mean()\n",
        "    print('Epoch: {} \\nTrain Loss: {:.6f} Acc: {:.4f}'.format(epoch_idx, epoch_loss, epoch_acc))\n",
        "    return epoch_loss, epoch_acc"
      ],
      "execution_count": null,
      "outputs": []
    },
    {
      "cell_type": "markdown",
      "metadata": {
        "id": "PDgdsdEnYD4K"
      },
      "source": [
        "## <font style=\"color:blue\">4.3. Validation Function</font>"
      ]
    },
    {
      "cell_type": "code",
      "metadata": {
        "id": "mHaADv1IYD4M"
      },
      "source": [
        "def validate(\n",
        "    train_config: TrainingConfiguration,\n",
        "    model: nn.Module,\n",
        "    test_loader: torch.utils.data.DataLoader,\n",
        ") -> float:\n",
        "    # \n",
        "    model.eval()\n",
        "    test_loss = 0\n",
        "    count_corect_predictions = 0\n",
        "    for data, target in test_loader:\n",
        "        indx_target = target.clone()\n",
        "        data = data.to(train_config.device)\n",
        "        \n",
        "        target = target.to(train_config.device)\n",
        "        \n",
        "        output = model(data)\n",
        "        # add loss for each mini batch\n",
        "        test_loss += F.cross_entropy(output, target).item()\n",
        "        \n",
        "        # Score to probability using softmax\n",
        "        prob = F.softmax(output, dim=1)\n",
        "        \n",
        "        # get the index of the max probability\n",
        "        pred = prob.data.max(dim=1)[1] \n",
        "        \n",
        "        # add correct prediction count\n",
        "        count_corect_predictions += pred.cpu().eq(indx_target).sum()\n",
        "\n",
        "    # average over number of mini-batches\n",
        "    test_loss = test_loss / len(test_loader)  \n",
        "    \n",
        "    # average over number of dataset\n",
        "    accuracy = 100. * count_corect_predictions / len(test_loader.dataset)\n",
        "    \n",
        "    print(\n",
        "        '\\nTest set: Average loss: {:.4f}, Accuracy: {}/{} ({:.0f}%)\\n'.format(\n",
        "            test_loss, count_corect_predictions, len(test_loader.dataset), accuracy\n",
        "        )\n",
        "    )\n",
        "    \n",
        "    return test_loss, accuracy/100.0"
      ],
      "execution_count": null,
      "outputs": []
    },
    {
      "cell_type": "markdown",
      "metadata": {
        "id": "fW4so4hhYD4R"
      },
      "source": [
        "## <font style=\"color:blue\">4.4. Save the Model</font>"
      ]
    },
    {
      "cell_type": "code",
      "metadata": {
        "id": "nFoEmur5YD4S"
      },
      "source": [
        "def save_model(model, device, model_dir='models', model_file_name='cat_dog_panda_classifier.pt'):\n",
        "    \n",
        "\n",
        "    if not os.path.exists(model_dir):\n",
        "        os.makedirs(model_dir)\n",
        "\n",
        "    model_path = os.path.join(model_dir, model_file_name)\n",
        "\n",
        "    # make sure you transfer the model to cpu.\n",
        "    if device == 'cuda':\n",
        "        model.to('cpu')\n",
        "\n",
        "    # save the state_dict\n",
        "    torch.save(model.state_dict(), model_path)\n",
        "    \n",
        "    if device == 'cuda':\n",
        "        model.to('cuda')\n",
        "    \n",
        "    return"
      ],
      "execution_count": null,
      "outputs": []
    },
    {
      "cell_type": "markdown",
      "metadata": {
        "id": "7RlckKkcYD4U"
      },
      "source": [
        "## <font style=\"color:blue\">4.5. Load the Model</font>"
      ]
    },
    {
      "cell_type": "code",
      "metadata": {
        "id": "HKNb8WJ-YD4U"
      },
      "source": [
        "def load_model(model, model_dir='models', model_file_name='cat_dog_panda_classifier.pt'):\n",
        "    model_path = os.path.join(model_dir, model_file_name)\n",
        "\n",
        "    # loading the model and getting model parameters by using load_state_dict\n",
        "    model.load_state_dict(torch.load(model_path))\n",
        "    \n",
        "    return model"
      ],
      "execution_count": null,
      "outputs": []
    },
    {
      "cell_type": "markdown",
      "metadata": {
        "id": "HNsoXMooYD4b"
      },
      "source": [
        "## <font style=\"color:blue\">4.6. Main Function for Training</font>\n",
        "\n",
        "One thing to note here is that before calling the train function, we are calculating the validation loss and we know that it should be close to `log(num_classes)` and the accuracy should be close to `1/num_classes`. "
      ]
    },
    {
      "cell_type": "code",
      "metadata": {
        "id": "GbwCSEFyYD4c"
      },
      "source": [
        "def main(model, optimizer, scheduler=None, system_configuration=SystemConfiguration(), \n",
        "         training_configuration=TrainingConfiguration(), data_augmentation=True):\n",
        "    \n",
        "    # system configuration\n",
        "    setup_system(system_configuration)\n",
        "\n",
        "    # batch size\n",
        "    batch_size_to_set = training_configuration.batch_size\n",
        "    # num_workers\n",
        "    num_workers_to_set = training_configuration.num_workers\n",
        "    # epochs\n",
        "    epoch_num_to_set = training_configuration.epochs_count\n",
        "\n",
        "    # if GPU is available use training config, \n",
        "    # else lowers batch_size, num_workers and epochs count\n",
        "    if torch.cuda.is_available():\n",
        "        device = \"cuda\"\n",
        "    else:\n",
        "        device = \"cpu\"\n",
        "        batch_size_to_set = 16\n",
        "        num_workers_to_set = 4\n",
        "\n",
        "    # data loader\n",
        "    train_loader, test_loader = get_data(\n",
        "        batch_size=batch_size_to_set,\n",
        "        data_root=training_configuration.data_root,\n",
        "        num_workers=num_workers_to_set,\n",
        "        data_augmentation=data_augmentation\n",
        "    )\n",
        "    \n",
        "    # Update training configuration\n",
        "    training_configuration = TrainingConfiguration(\n",
        "        device=device,\n",
        "        batch_size=batch_size_to_set,\n",
        "        num_workers=num_workers_to_set\n",
        "    )\n",
        "        \n",
        "    # send model to device (GPU/CPU)\n",
        "    model.to(training_configuration.device)\n",
        "\n",
        "    best_loss = torch.tensor(np.inf)\n",
        "    \n",
        "    # epoch train/test loss\n",
        "    epoch_train_loss = np.array([])\n",
        "    epoch_test_loss = np.array([])\n",
        "    \n",
        "    # epch train/test accuracy\n",
        "    epoch_train_acc = np.array([])\n",
        "    epoch_test_acc = np.array([])\n",
        "    \n",
        "    # Calculate Initial Test Loss\n",
        "    init_val_loss, init_val_accuracy = validate(training_configuration, model, test_loader)\n",
        "    print(\"Initial Test Loss : {:.6f}, \\nInitial Test Accuracy : {:.3f}%\\n\".format(init_val_loss, \n",
        "                                                                                   init_val_accuracy*100))\n",
        "    print(\"training_configuration.epochs_count:\", training_configuration.epochs_count)\n",
        "    # trainig time measurement\n",
        "    t_begin = time.time()\n",
        "    for epoch in range(training_configuration.epochs_count):\n",
        "        \n",
        "        # Train\n",
        "        train_loss, train_acc = train(training_configuration, model, optimizer, train_loader, epoch)\n",
        "        \n",
        "        epoch_train_loss = np.append(epoch_train_loss, [train_loss])\n",
        "        \n",
        "        epoch_train_acc = np.append(epoch_train_acc, [train_acc])\n",
        "\n",
        "        elapsed_time = time.time() - t_begin\n",
        "        speed_epoch = elapsed_time / (epoch + 1)\n",
        "        speed_batch = speed_epoch / len(train_loader)\n",
        "        eta = speed_epoch * training_configuration.epochs_count - elapsed_time\n",
        "        \n",
        "        print(\n",
        "            \"Elapsed {:.2f}s, {:.2f} s/epoch, {:.2f} s/batch, ets {:.2f}s\".format(\n",
        "                elapsed_time, speed_epoch, speed_batch, eta\n",
        "            )\n",
        "        )\n",
        "\n",
        "        # Validate\n",
        "        if epoch % training_configuration.test_interval == 0:\n",
        "            current_loss, current_accuracy = validate(training_configuration, model, test_loader)\n",
        "            \n",
        "            epoch_test_loss = np.append(epoch_test_loss, [current_loss])\n",
        "        \n",
        "            epoch_test_acc = np.append(epoch_test_acc, [current_accuracy])\n",
        "            \n",
        "            if current_loss < best_loss:\n",
        "                best_loss = current_loss\n",
        "                print('Model Improved. Saving the Model...\\n')\n",
        "                save_model(model, device=training_configuration.device)\n",
        "        \n",
        "                \n",
        "    print(\"Total time: {:.2f}, Best Loss: {:.3f}\".format(time.time() - t_begin, best_loss))\n",
        "    \n",
        "    return model, epoch_train_loss, epoch_train_acc, epoch_test_loss, epoch_test_acc"
      ],
      "execution_count": null,
      "outputs": []
    },
    {
      "cell_type": "markdown",
      "metadata": {
        "id": "AMrJXjutYD4f"
      },
      "source": [
        "## <font style=\"color:blue\">4.7. Plot Loss and Accuracy</font>"
      ]
    },
    {
      "cell_type": "code",
      "metadata": {
        "id": "cm_7EFWNYD4f"
      },
      "source": [
        "def plot_loss_accuracy(train_loss, val_loss, train_acc, val_acc, colors, \n",
        "                       loss_legend_loc='upper center', acc_legend_loc='upper left', \n",
        "                       fig_size=(20, 10), sub_plot1=(1, 2, 1), sub_plot2=(1, 2, 2)):\n",
        "    \n",
        "    plt.rcParams[\"figure.figsize\"] = fig_size\n",
        "    fig = plt.figure()\n",
        "    \n",
        "    plt.subplot(sub_plot1[0], sub_plot1[1], sub_plot1[2])\n",
        "    \n",
        "    for i in range(len(train_loss)):\n",
        "        x_train = range(len(train_loss[i]))\n",
        "        x_val = range(len(val_loss[i]))\n",
        "        \n",
        "        min_train_loss = train_loss[i].min()\n",
        "        \n",
        "        min_val_loss = val_loss[i].min()\n",
        "        \n",
        "        plt.plot(x_train, train_loss[i], linestyle='-', color='tab:{}'.format(colors[i]), \n",
        "                 label=\"TRAIN LOSS ({0:.4})\".format(min_train_loss))\n",
        "        plt.plot(x_val, val_loss[i], linestyle='--' , color='tab:{}'.format(colors[i]), \n",
        "                 label=\"VALID LOSS ({0:.4})\".format(min_val_loss))\n",
        "        \n",
        "    plt.xlabel('epoch no.')\n",
        "    plt.ylabel('loss')\n",
        "    plt.legend(loc=loss_legend_loc)\n",
        "    plt.title('Training and Validation Loss')\n",
        "        \n",
        "    plt.subplot(sub_plot2[0], sub_plot2[1], sub_plot2[2])\n",
        "    \n",
        "    for i in range(len(train_acc)):\n",
        "        x_train = range(len(train_acc[i]))\n",
        "        x_val = range(len(val_acc[i]))\n",
        "        \n",
        "        max_train_acc = train_acc[i].max() \n",
        "        \n",
        "        max_val_acc = val_acc[i].max() \n",
        "        \n",
        "        plt.plot(x_train, train_acc[i], linestyle='-', color='tab:{}'.format(colors[i]), \n",
        "                 label=\"TRAIN ACC ({0:.4})\".format(max_train_acc))\n",
        "        plt.plot(x_val, val_acc[i], linestyle='--' , color='tab:{}'.format(colors[i]), \n",
        "                 label=\"VALID ACC ({0:.4})\".format(max_val_acc))\n",
        "        \n",
        "    plt.xlabel('epoch no.')\n",
        "    plt.ylabel('accuracy')\n",
        "    plt.legend(loc=acc_legend_loc)\n",
        "    plt.title('Training and Validation Accuracy')\n",
        "    \n",
        "    fig.savefig('sample_loss_acc_plot.png')\n",
        "    plt.show()\n",
        "    \n",
        "    return   "
      ],
      "execution_count": null,
      "outputs": []
    },
    {
      "cell_type": "markdown",
      "metadata": {
        "id": "b9-Fyan7YD4i"
      },
      "source": [
        "## <font style=\"color:red\">4.8. Define Model [20 Points]</font>\n",
        "\n",
        "In the section, you will define the CNN model. You need to keep iterating by training various models by changing:\n",
        "    - Number of layers\n",
        "    - Parameters inside the layers\n",
        "    - different types of layers"
      ]
    },
    {
      "cell_type": "markdown",
      "metadata": {
        "id": "ZiN8zZcLxz0K"
      },
      "source": [
        "### LargeModel"
      ]
    },
    {
      "cell_type": "code",
      "metadata": {
        "id": "DUE3C2LDtwlr"
      },
      "source": [
        "class LargeModel(nn.Module):\n",
        "#     YOUR CODE HERE\n",
        "    def __init__(self, dropout=0.0, batch_norm=False):\n",
        "        super().__init__()\n",
        "        if batch_norm:\n",
        "          # convolution layers\n",
        "          self._body = nn.Sequential(\n",
        "              # First convolution Layer\n",
        "              # input size = (224, 224), output size = (222, 222)\n",
        "              nn.Conv2d(in_channels=3, out_channels=64, kernel_size=3),\n",
        "              nn.BatchNorm2d(64),\n",
        "              nn.ReLU(inplace=True),\n",
        "              nn.Dropout(dropout),\n",
        "              \n",
        "              # 2nd convolution layer\n",
        "              # input size = (222, 222), output size = (220, 220)\n",
        "              nn.Conv2d(in_channels=64, out_channels=64, kernel_size=3),\n",
        "              nn.BatchNorm2d(64),\n",
        "              nn.ReLU(inplace=True),\n",
        "              nn.MaxPool2d(kernel_size=2),\n",
        "              nn.Dropout(dropout),\n",
        "              \n",
        "              # 3rd convolution layer\n",
        "              # input size = (110, 110), output size = (108, 108)\n",
        "              nn.Conv2d(in_channels=64, out_channels=128, kernel_size=3),\n",
        "              nn.BatchNorm2d(128),\n",
        "              nn.ReLU(inplace=True),\n",
        "              nn.Dropout(dropout),\n",
        "              \n",
        "              # 4th convolution layer\n",
        "              # input size = (108, 108), output size = (104, 104)\n",
        "              nn.Conv2d(in_channels=128, out_channels=128, kernel_size=5),\n",
        "              nn.BatchNorm2d(128),\n",
        "              nn.ReLU(inplace=True),\n",
        "              nn.MaxPool2d(kernel_size=2),\n",
        "              nn.Dropout(dropout),\n",
        "\n",
        "              # 5th convolution layer\n",
        "              # input size = (52, 52), output size = (48, 48)\n",
        "              nn.Conv2d(in_channels=128, out_channels=256, kernel_size=5),\n",
        "              nn.BatchNorm2d(256),\n",
        "              nn.ReLU(inplace=True),\n",
        "              nn.Dropout(dropout),\n",
        "\n",
        "              # 6th convolution layer\n",
        "              # input size = (48, 48), output size = (44, 44)\n",
        "              nn.Conv2d(in_channels=256, out_channels=256, kernel_size=5),\n",
        "              nn.BatchNorm2d(256),\n",
        "              nn.ReLU(inplace=True),\n",
        "              nn.MaxPool2d(kernel_size=2),\n",
        "              nn.Dropout(dropout),\n",
        "\n",
        "              # 7th convolution layer\n",
        "              # input size = (22, 22), output size = (18, 18)\n",
        "              nn.Conv2d(in_channels=256, out_channels=512, kernel_size=5),\n",
        "              nn.BatchNorm2d(512),\n",
        "              nn.ReLU(inplace=True),\n",
        "              nn.Dropout(dropout),\n",
        "\n",
        "              # 8th convolution layer\n",
        "              # input size = (18, 18), output size = (16, 16)\n",
        "              nn.Conv2d(in_channels=512, out_channels=512, kernel_size=3),\n",
        "              nn.BatchNorm2d(512),\n",
        "              nn.ReLU(inplace=True),\n",
        "              nn.MaxPool2d(kernel_size=2),\n",
        "              nn.Dropout(dropout),\n",
        "\n",
        "              # 9th convolution layer\n",
        "              # input size = (8, 8), output size = (6, 6)\n",
        "              nn.Conv2d(in_channels=512, out_channels=1024, kernel_size=3),\n",
        "              nn.BatchNorm2d(1024),\n",
        "              nn.ReLU(inplace=True),\n",
        "              nn.Dropout(dropout),\n",
        "\n",
        "              # 10th convolution layer\n",
        "              # input size = (6, 6), output size = (4, 4)\n",
        "              nn.Conv2d(in_channels=1024, out_channels=1024, kernel_size=3),\n",
        "              nn.BatchNorm2d(1024),\n",
        "              nn.ReLU(inplace=True),\n",
        "              nn.MaxPool2d(kernel_size=2),\n",
        "              nn.Dropout(dropout),\n",
        "          )\n",
        "        else:\n",
        "          # convolution layers\n",
        "          self._body = nn.Sequential(\n",
        "              # First convolution Layer\n",
        "              # input size = (224, 224), output size = (222, 222)\n",
        "              nn.Conv2d(in_channels=3, out_channels=64, kernel_size=3),\n",
        "              nn.ReLU(inplace=True),\n",
        "              nn.Dropout(dropout),\n",
        "              \n",
        "              # 2nd convolution layer\n",
        "              # input size = (222, 222), output size = (220, 220)\n",
        "              nn.Conv2d(in_channels=64, out_channels=64, kernel_size=3),\n",
        "              nn.ReLU(inplace=True),\n",
        "              nn.MaxPool2d(kernel_size=2),\n",
        "              nn.Dropout(dropout),\n",
        "              \n",
        "              # 3rd convolution layer\n",
        "              # input size = (110, 110), output size = (108, 108)\n",
        "              nn.Conv2d(in_channels=64, out_channels=128, kernel_size=3),\n",
        "              nn.ReLU(inplace=True),\n",
        "              nn.Dropout(dropout),\n",
        "              \n",
        "              # 4th convolution layer\n",
        "              # input size = (108, 108), output size = (104, 104)\n",
        "              nn.Conv2d(in_channels=128, out_channels=128, kernel_size=5),\n",
        "              nn.ReLU(inplace=True),\n",
        "              nn.MaxPool2d(kernel_size=2),\n",
        "              nn.Dropout(dropout),\n",
        "\n",
        "              # 5th convolution layer\n",
        "              # input size = (52, 52), output size = (48, 48)\n",
        "              nn.Conv2d(in_channels=128, out_channels=256, kernel_size=5),\n",
        "              nn.ReLU(inplace=True),\n",
        "              nn.Dropout(dropout),\n",
        "\n",
        "              # 6th convolution layer\n",
        "              # input size = (48, 48), output size = (44, 44)\n",
        "              nn.Conv2d(in_channels=256, out_channels=256, kernel_size=5),\n",
        "              nn.ReLU(inplace=True),\n",
        "              nn.MaxPool2d(kernel_size=2),\n",
        "              nn.Dropout(dropout),\n",
        "\n",
        "              # 7th convolution layer\n",
        "              # input size = (22, 22), output size = (18, 18)\n",
        "              nn.Conv2d(in_channels=256, out_channels=512, kernel_size=5),\n",
        "              nn.ReLU(inplace=True),\n",
        "              nn.Dropout(dropout),\n",
        "\n",
        "              # 8th convolution layer\n",
        "              # input size = (18, 18), output size = (16, 16)\n",
        "              nn.Conv2d(in_channels=512, out_channels=512, kernel_size=3),\n",
        "              nn.ReLU(inplace=True),\n",
        "              nn.MaxPool2d(kernel_size=2),\n",
        "              nn.Dropout(dropout),\n",
        "\n",
        "              # 9th convolution layer\n",
        "              # input size = (8, 8), output size = (6, 6)\n",
        "              nn.Conv2d(in_channels=512, out_channels=1024, kernel_size=3),\n",
        "              nn.ReLU(inplace=True),\n",
        "              nn.Dropout(dropout),\n",
        "\n",
        "              # 10th convolution layer\n",
        "              # input size = (6, 6), output size = (4, 4)\n",
        "              nn.Conv2d(in_channels=1024, out_channels=1024, kernel_size=3),\n",
        "              nn.ReLU(inplace=True),\n",
        "              nn.MaxPool2d(kernel_size=2),\n",
        "              nn.Dropout(dropout),\n",
        "              # output size = (2, 2)\n",
        "          )\n",
        "\n",
        "        # Fully connected layers\n",
        "        self._head = nn.Sequential(\n",
        "            # First fully connected layer\n",
        "            # in_features = total number of weight in last conv layer \n",
        "            nn.Linear(in_features=1024 * 2 * 2, out_features=4096), \n",
        "            nn.ReLU(inplace=True),\n",
        "            nn.Dropout(dropout),\n",
        "            \n",
        "            nn.Linear(in_features=4096, out_features=4096), \n",
        "            nn.ReLU(inplace=True),\n",
        "            nn.Dropout(dropout),\n",
        "\n",
        "            nn.Linear(in_features=4096, out_features=4096), \n",
        "            nn.ReLU(inplace=True),\n",
        "            nn.Dropout(dropout),\n",
        "            \n",
        "            nn.Linear(in_features=4096, out_features=4096), \n",
        "            nn.ReLU(inplace=True),\n",
        "            nn.Dropout(dropout),\n",
        "            \n",
        "            nn.Linear(in_features=4096, out_features=3)\n",
        "        )\n",
        "    \n",
        "    def forward(self, x):\n",
        "        \n",
        "        # apply feature extractor\n",
        "        x = self._body(x)\n",
        "        # flatten the output of conv layers\n",
        "        # dimension should be batch_size * number_of weight_in_last conv_layer\n",
        "        x = x.view(x.size()[0], -1)\n",
        "        # apply classification head\n",
        "        x = self._head(x)\n",
        "        \n",
        "        return x\n",
        "        \n"
      ],
      "execution_count": null,
      "outputs": []
    },
    {
      "cell_type": "markdown",
      "metadata": {
        "id": "vjgb0vphyFT6"
      },
      "source": [
        "### Medium Model"
      ]
    },
    {
      "cell_type": "code",
      "metadata": {
        "id": "pFd4c0KlYD4j"
      },
      "source": [
        "class MediumModel(nn.Module):\n",
        "#     YOUR CODE HERE\n",
        "    def __init__(self, dropout=0.0, batch_norm=False):\n",
        "        super().__init__()\n",
        "        \n",
        "        if batch_norm:\n",
        "          # convolution layers\n",
        "          self._body = nn.Sequential(\n",
        "              # First convolution Layer\n",
        "              # input size = (224, 224), output size = (218, 218)\n",
        "              nn.Conv2d(in_channels=3, out_channels=64, kernel_size=7),\n",
        "              nn.BatchNorm2d(64),\n",
        "              nn.ReLU(inplace=True),\n",
        "              nn.MaxPool2d(kernel_size=2),\n",
        "              nn.Dropout(dropout),\n",
        "              # output size = (109, 109)\n",
        "              \n",
        "              # Second convolution layer\n",
        "              # input size = (109, 109), output size = (104, 104)\n",
        "              nn.Conv2d(in_channels=64, out_channels=128, kernel_size=6),\n",
        "              nn.BatchNorm2d(128),\n",
        "              nn.ReLU(inplace=True),\n",
        "              nn.MaxPool2d(kernel_size=2),\n",
        "              nn.Dropout(dropout),\n",
        "              # output size = (52, 52)\n",
        "              \n",
        "              # 3rd convolution layer\n",
        "              # input size = (52, 52), output size = (48, 48)\n",
        "              nn.Conv2d(in_channels=128, out_channels=256, kernel_size=5),\n",
        "              nn.BatchNorm2d(256),\n",
        "              nn.ReLU(inplace=True),\n",
        "              nn.MaxPool2d(kernel_size=2),\n",
        "              nn.Dropout(dropout),\n",
        "              # output size = (24, 24)\n",
        "              \n",
        "              # 4th convolution layer\n",
        "              # input size = (24, 24), output size = (20, 20)\n",
        "              nn.Conv2d(in_channels=256, out_channels=512, kernel_size=5),\n",
        "              nn.BatchNorm2d(512),\n",
        "              nn.ReLU(inplace=True),\n",
        "              nn.MaxPool2d(kernel_size=2),\n",
        "              nn.Dropout(dropout),\n",
        "              # output size = (10, 10)\n",
        "\n",
        "              # 5th convolution layer\n",
        "              # input size = (10, 10), output size = (4, 4)\n",
        "              nn.Conv2d(in_channels=512, out_channels=1024, kernel_size=7),\n",
        "              nn.BatchNorm2d(1024),\n",
        "              nn.ReLU(inplace=True),\n",
        "              nn.MaxPool2d(kernel_size=2),\n",
        "              nn.Dropout(dropout),\n",
        "              # output size = (2, 2)\n",
        "          )\n",
        "        else:\n",
        "          # convolution layers\n",
        "          self._body = nn.Sequential(\n",
        "              # First convolution Layer\n",
        "              # input size = (224, 224), output size = (218, 218)\n",
        "              nn.Conv2d(in_channels=3, out_channels=64, kernel_size=7),\n",
        "              nn.ReLU(inplace=True),\n",
        "              nn.MaxPool2d(kernel_size=2),\n",
        "              nn.Dropout(dropout),\n",
        "              # output size = (109, 109)\n",
        "              \n",
        "              # Second convolution layer\n",
        "              # input size = (109, 109), output size = (104, 104)\n",
        "              nn.Conv2d(in_channels=64, out_channels=128, kernel_size=6),\n",
        "              nn.ReLU(inplace=True),\n",
        "              nn.MaxPool2d(kernel_size=2),\n",
        "              nn.Dropout(dropout),\n",
        "              # output size = (52, 52)\n",
        "              \n",
        "              # 3rd convolution layer\n",
        "              # input size = (52, 52), output size = (48, 48)\n",
        "              nn.Conv2d(in_channels=128, out_channels=256, kernel_size=5),\n",
        "              nn.ReLU(inplace=True),\n",
        "              nn.MaxPool2d(kernel_size=2),\n",
        "              nn.Dropout(dropout),\n",
        "              # output size = (24, 24)\n",
        "              \n",
        "              # 4th convolution layer\n",
        "              # input size = (24, 24), output size = (20, 20)\n",
        "              nn.Conv2d(in_channels=256, out_channels=512, kernel_size=5),\n",
        "              nn.ReLU(inplace=True),\n",
        "              nn.MaxPool2d(kernel_size=2),\n",
        "              nn.Dropout(dropout),\n",
        "              # output size = (10, 10)\n",
        "\n",
        "              # 5th convolution layer\n",
        "              # input size = (10, 10), output size = (4, 4)\n",
        "              nn.Conv2d(in_channels=512, out_channels=1024, kernel_size=7),\n",
        "              nn.ReLU(inplace=True),\n",
        "              nn.MaxPool2d(kernel_size=2),\n",
        "              nn.Dropout(dropout),\n",
        "              # output size = (2, 2)\n",
        "          )\n",
        "\n",
        "        # Fully connected layers\n",
        "        self._head = nn.Sequential(\n",
        "            # First fully connected layer\n",
        "            # in_features = total number of weight in last conv layer = 1024 * 2 * 2\n",
        "            nn.Linear(in_features=1024 * 2 * 2, out_features=512), \n",
        "            nn.ReLU(inplace=True),\n",
        "            nn.Dropout(dropout),\n",
        "            \n",
        "            # second fully connected layer\n",
        "            # in_features = output of last linear layer = 512\n",
        "            nn.Linear(in_features=512, out_features=256), \n",
        "            nn.ReLU(inplace=True),\n",
        "            nn.Dropout(dropout),\n",
        "            \n",
        "            nn.Linear(in_features=256, out_features=128), \n",
        "            nn.ReLU(inplace=True),\n",
        "            nn.Dropout(dropout),\n",
        "            \n",
        "            # Third fully connected layer. It is also output layer\n",
        "            # in_features = output of last linear layer = 3\n",
        "            # and out_features = number of classes = 3\n",
        "            nn.Linear(in_features=128, out_features=3)\n",
        "        )\n",
        "    \n",
        "    def forward(self, x):\n",
        "        \n",
        "        # apply feature extractor\n",
        "        x = self._body(x)\n",
        "        # flatten the output of conv layers\n",
        "        # dimension should be batch_size * number_of weight_in_last conv_layer\n",
        "        x = x.view(x.size()[0], -1)\n",
        "        # apply classification head\n",
        "        x = self._head(x)\n",
        "        \n",
        "        return x\n",
        "        \n"
      ],
      "execution_count": null,
      "outputs": []
    },
    {
      "cell_type": "markdown",
      "metadata": {
        "id": "Uob67UJ-yJ3A"
      },
      "source": [
        "### SmallModel"
      ]
    },
    {
      "cell_type": "code",
      "metadata": {
        "id": "embsg9BU0M1B"
      },
      "source": [
        "class SmallModel(nn.Module):\n",
        "    def __init__(self, dropout=0.0, batch_norm=False):\n",
        "        super().__init__()\n",
        "        \n",
        "        if batch_norm:\n",
        "          # convolution layers\n",
        "          self._body = nn.Sequential(\n",
        "              nn.Conv2d(in_channels=3, out_channels=32, kernel_size=7),\n",
        "              nn.BatchNorm2d(32),\n",
        "              nn.ReLU(inplace=True),\n",
        "              nn.MaxPool2d(kernel_size=2),\n",
        "              \n",
        "              nn.Conv2d(in_channels=32, out_channels=64, kernel_size=5),\n",
        "              nn.BatchNorm2d(64),\n",
        "              nn.ReLU(inplace=True),\n",
        "              nn.MaxPool2d(kernel_size=2),\n",
        "              nn.Dropout(dropout),\n",
        "          )\n",
        "        else:\n",
        "          # convolution layers\n",
        "          self._body = nn.Sequential(\n",
        "              nn.Conv2d(in_channels=3, out_channels=32, kernel_size=7),\n",
        "              nn.ReLU(inplace=True),\n",
        "              nn.MaxPool2d(kernel_size=2),\n",
        "              \n",
        "              nn.Conv2d(in_channels=32, out_channels=64, kernel_size=5),\n",
        "              nn.ReLU(inplace=True),\n",
        "              nn.MaxPool2d(kernel_size=2),\n",
        "              nn.Dropout(dropout),\n",
        "          )\n",
        "          \n",
        "        # Fully connected layers\n",
        "        self._head = nn.Sequential(\n",
        "            nn.Linear(in_features=64*52*52, out_features=1024), \n",
        "            nn.ReLU(inplace=True),\n",
        "            nn.Dropout(dropout),\n",
        "           \n",
        "            nn.Linear(in_features=1024, out_features=3)\n",
        "\n",
        "        )\n",
        "      \n",
        "    def forward(self, x):\n",
        "        \n",
        "        # apply feature extractor\n",
        "        x = self._body(x)\n",
        "        # flatten the output of conv layers\n",
        "        # dimension should be batch_size * number_of weight_in_last conv_layer\n",
        "        x = x.view(x.size()[0], -1)\n",
        "        # apply classification head\n",
        "        x = self._head(x)\n",
        "        \n",
        "        \n",
        "        return x"
      ],
      "execution_count": null,
      "outputs": []
    },
    {
      "cell_type": "markdown",
      "metadata": {
        "id": "1rTY-UHyYD4l"
      },
      "source": [
        "### <font style=\"color:red\">4.9. Training [20 Points]</font>\n",
        "You should experiment with\n",
        "    - Optimizers and learning rate schedulers [You can even get good results without a learning rate shceduler]\n",
        "    - Regularization techniques like Data Augmentation, Dropout, BatchNorm\n"
      ]
    },
    {
      "cell_type": "code",
      "metadata": {
        "id": "0YSUfBHLHd4a"
      },
      "source": [
        "def get_optimizer_and_scheduler(model):\n",
        "    train_config = TrainingConfiguration()\n",
        "\n",
        "    init_learning_rate = train_config.init_learning_rate\n",
        "\n",
        "    # optimizer\n",
        "    optimizer = optim.Adam(\n",
        "        model.parameters(),\n",
        "        lr = init_learning_rate,\n",
        "    )\n",
        "\n",
        "    # Scheduler\n",
        "    # decay_rate = train_config.decay_rate\n",
        "    # lmbda = lambda epoch: 1/(1 + decay_rate * epoch)\n",
        "    # scheduler = lr_scheduler.LambdaLR(optimizer, lr_lambda=lmbda)\n",
        "\n",
        "    scheduler = None\n",
        "    return optimizer, scheduler"
      ],
      "execution_count": null,
      "outputs": []
    },
    {
      "cell_type": "code",
      "metadata": {
        "id": "Ngi--UxKYD4m",
        "colab": {
          "base_uri": "https://localhost:8080/",
          "height": 1000
        },
        "outputId": "e86cf363-312d-4254-bdb1-b33d2ecefb4d"
      },
      "source": [
        "model = LargeModel(0.2, batch_norm=True)\n",
        "# model = LargeModel()\n",
        "# model = SmallModel(0.25, batch_norm=True)\n",
        "print(model)\n",
        "\n",
        "### CHANGE HERE ###\n",
        "# get optimizer and scheduler\n",
        "optimizer, scheduler = get_optimizer_and_scheduler(model)"
      ],
      "execution_count": null,
      "outputs": [
        {
          "output_type": "stream",
          "text": [
            "LargeModel(\n",
            "  (_body): Sequential(\n",
            "    (0): Conv2d(3, 64, kernel_size=(3, 3), stride=(1, 1))\n",
            "    (1): BatchNorm2d(64, eps=1e-05, momentum=0.1, affine=True, track_running_stats=True)\n",
            "    (2): ReLU(inplace=True)\n",
            "    (3): Dropout(p=0.2, inplace=False)\n",
            "    (4): Conv2d(64, 64, kernel_size=(3, 3), stride=(1, 1))\n",
            "    (5): BatchNorm2d(64, eps=1e-05, momentum=0.1, affine=True, track_running_stats=True)\n",
            "    (6): ReLU(inplace=True)\n",
            "    (7): MaxPool2d(kernel_size=2, stride=2, padding=0, dilation=1, ceil_mode=False)\n",
            "    (8): Dropout(p=0.2, inplace=False)\n",
            "    (9): Conv2d(64, 128, kernel_size=(3, 3), stride=(1, 1))\n",
            "    (10): BatchNorm2d(128, eps=1e-05, momentum=0.1, affine=True, track_running_stats=True)\n",
            "    (11): ReLU(inplace=True)\n",
            "    (12): Dropout(p=0.2, inplace=False)\n",
            "    (13): Conv2d(128, 128, kernel_size=(5, 5), stride=(1, 1))\n",
            "    (14): BatchNorm2d(128, eps=1e-05, momentum=0.1, affine=True, track_running_stats=True)\n",
            "    (15): ReLU(inplace=True)\n",
            "    (16): MaxPool2d(kernel_size=2, stride=2, padding=0, dilation=1, ceil_mode=False)\n",
            "    (17): Dropout(p=0.2, inplace=False)\n",
            "    (18): Conv2d(128, 256, kernel_size=(5, 5), stride=(1, 1))\n",
            "    (19): BatchNorm2d(256, eps=1e-05, momentum=0.1, affine=True, track_running_stats=True)\n",
            "    (20): ReLU(inplace=True)\n",
            "    (21): Dropout(p=0.2, inplace=False)\n",
            "    (22): Conv2d(256, 256, kernel_size=(5, 5), stride=(1, 1))\n",
            "    (23): BatchNorm2d(256, eps=1e-05, momentum=0.1, affine=True, track_running_stats=True)\n",
            "    (24): ReLU(inplace=True)\n",
            "    (25): MaxPool2d(kernel_size=2, stride=2, padding=0, dilation=1, ceil_mode=False)\n",
            "    (26): Dropout(p=0.2, inplace=False)\n",
            "    (27): Conv2d(256, 512, kernel_size=(5, 5), stride=(1, 1))\n",
            "    (28): BatchNorm2d(512, eps=1e-05, momentum=0.1, affine=True, track_running_stats=True)\n",
            "    (29): ReLU(inplace=True)\n",
            "    (30): Dropout(p=0.2, inplace=False)\n",
            "    (31): Conv2d(512, 512, kernel_size=(3, 3), stride=(1, 1))\n",
            "    (32): BatchNorm2d(512, eps=1e-05, momentum=0.1, affine=True, track_running_stats=True)\n",
            "    (33): ReLU(inplace=True)\n",
            "    (34): MaxPool2d(kernel_size=2, stride=2, padding=0, dilation=1, ceil_mode=False)\n",
            "    (35): Dropout(p=0.2, inplace=False)\n",
            "    (36): Conv2d(512, 1024, kernel_size=(3, 3), stride=(1, 1))\n",
            "    (37): BatchNorm2d(1024, eps=1e-05, momentum=0.1, affine=True, track_running_stats=True)\n",
            "    (38): ReLU(inplace=True)\n",
            "    (39): Dropout(p=0.2, inplace=False)\n",
            "    (40): Conv2d(1024, 1024, kernel_size=(3, 3), stride=(1, 1))\n",
            "    (41): BatchNorm2d(1024, eps=1e-05, momentum=0.1, affine=True, track_running_stats=True)\n",
            "    (42): ReLU(inplace=True)\n",
            "    (43): MaxPool2d(kernel_size=2, stride=2, padding=0, dilation=1, ceil_mode=False)\n",
            "    (44): Dropout(p=0.2, inplace=False)\n",
            "  )\n",
            "  (_head): Sequential(\n",
            "    (0): Linear(in_features=4096, out_features=4096, bias=True)\n",
            "    (1): ReLU(inplace=True)\n",
            "    (2): Dropout(p=0.2, inplace=False)\n",
            "    (3): Linear(in_features=4096, out_features=4096, bias=True)\n",
            "    (4): ReLU(inplace=True)\n",
            "    (5): Dropout(p=0.2, inplace=False)\n",
            "    (6): Linear(in_features=4096, out_features=4096, bias=True)\n",
            "    (7): ReLU(inplace=True)\n",
            "    (8): Dropout(p=0.2, inplace=False)\n",
            "    (9): Linear(in_features=4096, out_features=4096, bias=True)\n",
            "    (10): ReLU(inplace=True)\n",
            "    (11): Dropout(p=0.2, inplace=False)\n",
            "    (12): Linear(in_features=4096, out_features=3, bias=True)\n",
            "  )\n",
            ")\n"
          ],
          "name": "stdout"
        }
      ]
    },
    {
      "cell_type": "code",
      "metadata": {
        "scrolled": true,
        "id": "W5GfPG2NYD4s",
        "colab": {
          "base_uri": "https://localhost:8080/",
          "height": 1000
        },
        "outputId": "4aee2bb8-53ad-4e03-fbbd-6dc3f9fd9cde"
      },
      "source": [
        "# train and validate\n",
        "model, train_loss, train_acc, val_loss, val_acc = main(model, optimizer, scheduler, data_augmentation=True)"
      ],
      "execution_count": null,
      "outputs": [
        {
          "output_type": "stream",
          "text": [
            "mean: tensor([0.4610, 0.4347, 0.3897]), std: tensor([0.2400, 0.2356, 0.2306])\n",
            "\n",
            "Test set: Average loss: 1.0987, Accuracy: 200/600 (33%)\n",
            "\n",
            "Initial Test Loss : 1.098719, \n",
            "Initial Test Accuracy : 33.333%\n",
            "\n",
            "training_configuration.epochs_count: 100\n",
            "Epoch: 0 \n",
            "Train Loss: 0.924028 Acc: 0.5312\n",
            "Elapsed 176.63s, 176.63 s/epoch, 1.77 s/batch, ets 17486.17s\n",
            "\n",
            "Test set: Average loss: 1.4218, Accuracy: 211/600 (35%)\n",
            "\n",
            "Model Improved. Saving the Model...\n",
            "\n",
            "Epoch: 1 \n",
            "Train Loss: 0.825662 Acc: 0.5583\n",
            "Elapsed 375.15s, 187.57 s/epoch, 1.88 s/batch, ets 18382.21s\n",
            "\n",
            "Test set: Average loss: 1.0292, Accuracy: 296/600 (49%)\n",
            "\n",
            "Model Improved. Saving the Model...\n",
            "\n",
            "Epoch: 2 \n",
            "Train Loss: 0.813819 Acc: 0.5771\n",
            "Elapsed 568.43s, 189.48 s/epoch, 1.89 s/batch, ets 18379.21s\n",
            "\n",
            "Test set: Average loss: 0.9756, Accuracy: 280/600 (47%)\n",
            "\n",
            "Model Improved. Saving the Model...\n",
            "\n",
            "Epoch: 3 \n",
            "Train Loss: 0.781939 Acc: 0.5750\n",
            "Elapsed 761.55s, 190.39 s/epoch, 1.90 s/batch, ets 18277.12s\n",
            "\n",
            "Test set: Average loss: 0.9672, Accuracy: 302/600 (50%)\n",
            "\n",
            "Model Improved. Saving the Model...\n",
            "\n",
            "Epoch: 4 \n",
            "Train Loss: 0.792875 Acc: 0.5800\n",
            "Elapsed 954.59s, 190.92 s/epoch, 1.91 s/batch, ets 18137.23s\n",
            "\n",
            "Test set: Average loss: 1.0978, Accuracy: 245/600 (41%)\n",
            "\n",
            "Epoch: 5 \n",
            "Train Loss: 0.775683 Acc: 0.5863\n",
            "Elapsed 1146.16s, 191.03 s/epoch, 1.91 s/batch, ets 17956.50s\n",
            "\n",
            "Test set: Average loss: 1.2372, Accuracy: 202/600 (34%)\n",
            "\n",
            "Epoch: 6 \n",
            "Train Loss: 0.786552 Acc: 0.5675\n",
            "Elapsed 1337.69s, 191.10 s/epoch, 1.91 s/batch, ets 17772.16s\n",
            "\n",
            "Test set: Average loss: 0.9626, Accuracy: 302/600 (50%)\n",
            "\n",
            "Model Improved. Saving the Model...\n",
            "\n",
            "Epoch: 7 \n",
            "Train Loss: 0.752358 Acc: 0.5842\n",
            "Elapsed 1530.72s, 191.34 s/epoch, 1.91 s/batch, ets 17603.24s\n",
            "\n",
            "Test set: Average loss: 1.0169, Accuracy: 262/600 (44%)\n",
            "\n",
            "Epoch: 8 \n",
            "Train Loss: 0.741893 Acc: 0.5896\n",
            "Elapsed 1722.04s, 191.34 s/epoch, 1.91 s/batch, ets 17411.78s\n",
            "\n",
            "Test set: Average loss: 1.0609, Accuracy: 278/600 (46%)\n",
            "\n",
            "Epoch: 9 \n",
            "Train Loss: 0.752257 Acc: 0.5912\n",
            "Elapsed 1913.45s, 191.34 s/epoch, 1.91 s/batch, ets 17221.01s\n",
            "\n",
            "Test set: Average loss: 0.8944, Accuracy: 317/600 (53%)\n",
            "\n",
            "Model Improved. Saving the Model...\n",
            "\n",
            "Epoch: 10 \n",
            "Train Loss: 0.724256 Acc: 0.5850\n",
            "Elapsed 2106.83s, 191.53 s/epoch, 1.92 s/batch, ets 17046.17s\n",
            "\n",
            "Test set: Average loss: 0.8155, Accuracy: 335/600 (56%)\n",
            "\n",
            "Model Improved. Saving the Model...\n",
            "\n",
            "Epoch: 11 \n",
            "Train Loss: 0.726388 Acc: 0.5992\n",
            "Elapsed 2300.71s, 191.73 s/epoch, 1.92 s/batch, ets 16871.86s\n",
            "\n",
            "Test set: Average loss: 0.7847, Accuracy: 331/600 (55%)\n",
            "\n",
            "Model Improved. Saving the Model...\n",
            "\n",
            "Epoch: 12 \n",
            "Train Loss: 0.709299 Acc: 0.6238\n",
            "Elapsed 2492.84s, 191.76 s/epoch, 1.92 s/batch, ets 16682.86s\n",
            "\n",
            "Test set: Average loss: 1.2045, Accuracy: 267/600 (44%)\n",
            "\n",
            "Epoch: 13 \n",
            "Train Loss: 0.718843 Acc: 0.5908\n",
            "Elapsed 2681.39s, 191.53 s/epoch, 1.92 s/batch, ets 16471.42s\n",
            "\n",
            "Test set: Average loss: 1.1962, Accuracy: 273/600 (46%)\n",
            "\n",
            "Epoch: 14 \n",
            "Train Loss: 0.702771 Acc: 0.6046\n",
            "Elapsed 2869.99s, 191.33 s/epoch, 1.91 s/batch, ets 16263.26s\n",
            "\n",
            "Test set: Average loss: 0.8179, Accuracy: 329/600 (55%)\n",
            "\n",
            "Epoch: 15 \n",
            "Train Loss: 0.701730 Acc: 0.6075\n",
            "Elapsed 3058.67s, 191.17 s/epoch, 1.91 s/batch, ets 16058.02s\n",
            "\n",
            "Test set: Average loss: 1.2797, Accuracy: 240/600 (40%)\n",
            "\n",
            "Epoch: 16 \n",
            "Train Loss: 0.709287 Acc: 0.6054\n",
            "Elapsed 3247.38s, 191.02 s/epoch, 1.91 s/batch, ets 15854.83s\n",
            "\n",
            "Test set: Average loss: 0.8636, Accuracy: 321/600 (54%)\n",
            "\n",
            "Epoch: 17 \n",
            "Train Loss: 0.695033 Acc: 0.6100\n",
            "Elapsed 3436.35s, 190.91 s/epoch, 1.91 s/batch, ets 15654.49s\n",
            "\n",
            "Test set: Average loss: 1.0339, Accuracy: 263/600 (44%)\n",
            "\n",
            "Epoch: 18 \n",
            "Train Loss: 0.684494 Acc: 0.6179\n",
            "Elapsed 3625.05s, 190.79 s/epoch, 1.91 s/batch, ets 15454.15s\n",
            "\n",
            "Test set: Average loss: 0.7659, Accuracy: 354/600 (59%)\n",
            "\n",
            "Model Improved. Saving the Model...\n",
            "\n",
            "Epoch: 19 \n",
            "Train Loss: 0.718405 Acc: 0.6046\n",
            "Elapsed 3815.83s, 190.79 s/epoch, 1.91 s/batch, ets 15263.33s\n",
            "\n",
            "Test set: Average loss: 0.7108, Accuracy: 368/600 (61%)\n",
            "\n",
            "Model Improved. Saving the Model...\n",
            "\n",
            "Epoch: 20 \n",
            "Train Loss: 0.688549 Acc: 0.6133\n",
            "Elapsed 4006.78s, 190.80 s/epoch, 1.91 s/batch, ets 15073.14s\n",
            "\n",
            "Test set: Average loss: 0.7788, Accuracy: 339/600 (56%)\n",
            "\n",
            "Epoch: 21 \n",
            "Train Loss: 0.673760 Acc: 0.6225\n",
            "Elapsed 4195.58s, 190.71 s/epoch, 1.91 s/batch, ets 14875.23s\n",
            "\n",
            "Test set: Average loss: 0.6747, Accuracy: 357/600 (60%)\n",
            "\n",
            "Model Improved. Saving the Model...\n",
            "\n",
            "Epoch: 22 \n",
            "Train Loss: 0.682288 Acc: 0.6146\n",
            "Elapsed 4386.25s, 190.71 s/epoch, 1.91 s/batch, ets 14684.41s\n",
            "\n",
            "Test set: Average loss: 0.7772, Accuracy: 340/600 (57%)\n",
            "\n",
            "Epoch: 23 \n",
            "Train Loss: 0.687163 Acc: 0.6225\n",
            "Elapsed 4574.98s, 190.62 s/epoch, 1.91 s/batch, ets 14487.43s\n",
            "\n",
            "Test set: Average loss: 0.7320, Accuracy: 347/600 (58%)\n",
            "\n",
            "Epoch: 24 \n",
            "Train Loss: 0.678833 Acc: 0.6104\n",
            "Elapsed 4763.78s, 190.55 s/epoch, 1.91 s/batch, ets 14291.34s\n",
            "\n",
            "Test set: Average loss: 0.9593, Accuracy: 303/600 (50%)\n",
            "\n",
            "Epoch: 25 \n",
            "Train Loss: 0.664122 Acc: 0.6296\n",
            "Elapsed 4952.46s, 190.48 s/epoch, 1.90 s/batch, ets 14095.47s\n",
            "\n",
            "Test set: Average loss: 0.7004, Accuracy: 356/600 (59%)\n",
            "\n",
            "Epoch: 26 \n",
            "Train Loss: 0.687562 Acc: 0.6379\n",
            "Elapsed 5141.28s, 190.42 s/epoch, 1.90 s/batch, ets 13900.49s\n",
            "\n",
            "Test set: Average loss: 0.6845, Accuracy: 375/600 (62%)\n",
            "\n",
            "Epoch: 27 \n",
            "Train Loss: 0.678175 Acc: 0.6292\n",
            "Elapsed 5330.51s, 190.38 s/epoch, 1.90 s/batch, ets 13707.02s\n",
            "\n",
            "Test set: Average loss: 0.7516, Accuracy: 350/600 (58%)\n",
            "\n",
            "Epoch: 28 \n",
            "Train Loss: 0.662263 Acc: 0.6142\n",
            "Elapsed 5519.25s, 190.32 s/epoch, 1.90 s/batch, ets 13512.65s\n",
            "\n",
            "Test set: Average loss: 0.7313, Accuracy: 359/600 (60%)\n",
            "\n",
            "Epoch: 29 \n",
            "Train Loss: 0.666682 Acc: 0.6392\n",
            "Elapsed 5708.03s, 190.27 s/epoch, 1.90 s/batch, ets 13318.74s\n",
            "\n",
            "Test set: Average loss: 0.6989, Accuracy: 361/600 (60%)\n",
            "\n",
            "Epoch: 30 \n",
            "Train Loss: 0.643970 Acc: 0.6421\n",
            "Elapsed 5899.24s, 190.30 s/epoch, 1.90 s/batch, ets 13130.56s\n",
            "\n",
            "Test set: Average loss: 0.6980, Accuracy: 365/600 (61%)\n",
            "\n",
            "Epoch: 31 \n",
            "Train Loss: 0.646498 Acc: 0.6354\n",
            "Elapsed 6091.16s, 190.35 s/epoch, 1.90 s/batch, ets 12943.71s\n",
            "\n",
            "Test set: Average loss: 0.6180, Accuracy: 368/600 (61%)\n",
            "\n",
            "Model Improved. Saving the Model...\n",
            "\n",
            "Epoch: 32 \n",
            "Train Loss: 0.612240 Acc: 0.6433\n",
            "Elapsed 6284.92s, 190.45 s/epoch, 1.90 s/batch, ets 12760.29s\n",
            "\n",
            "Test set: Average loss: 0.6480, Accuracy: 385/600 (64%)\n",
            "\n",
            "Epoch: 33 \n",
            "Train Loss: 0.632971 Acc: 0.6392\n",
            "Elapsed 6476.94s, 190.50 s/epoch, 1.90 s/batch, ets 12572.88s\n",
            "\n",
            "Test set: Average loss: 0.6685, Accuracy: 376/600 (63%)\n",
            "\n",
            "Epoch: 34 \n",
            "Train Loss: 0.621289 Acc: 0.6433\n",
            "Elapsed 6668.78s, 190.54 s/epoch, 1.91 s/batch, ets 12384.88s\n",
            "\n",
            "Test set: Average loss: 0.6501, Accuracy: 371/600 (62%)\n",
            "\n",
            "Epoch: 35 \n",
            "Train Loss: 0.645665 Acc: 0.6433\n",
            "Elapsed 6860.71s, 190.58 s/epoch, 1.91 s/batch, ets 12196.82s\n",
            "\n",
            "Test set: Average loss: 0.6461, Accuracy: 385/600 (64%)\n",
            "\n",
            "Epoch: 36 \n",
            "Train Loss: 0.625627 Acc: 0.6338\n",
            "Elapsed 7052.62s, 190.61 s/epoch, 1.91 s/batch, ets 12008.51s\n",
            "\n",
            "Test set: Average loss: 0.7132, Accuracy: 345/600 (58%)\n",
            "\n",
            "Epoch: 37 \n",
            "Train Loss: 0.621956 Acc: 0.6462\n",
            "Elapsed 7243.25s, 190.61 s/epoch, 1.91 s/batch, ets 11817.93s\n",
            "\n",
            "Test set: Average loss: 0.6321, Accuracy: 393/600 (66%)\n",
            "\n",
            "Epoch: 38 \n",
            "Train Loss: 0.619402 Acc: 0.6600\n",
            "Elapsed 7432.02s, 190.56 s/epoch, 1.91 s/batch, ets 11624.44s\n",
            "\n",
            "Test set: Average loss: 0.6663, Accuracy: 391/600 (65%)\n",
            "\n",
            "Epoch: 39 \n",
            "Train Loss: 0.589815 Acc: 0.6633\n",
            "Elapsed 7620.71s, 190.52 s/epoch, 1.91 s/batch, ets 11431.07s\n",
            "\n",
            "Test set: Average loss: 0.6359, Accuracy: 383/600 (64%)\n",
            "\n",
            "Epoch: 40 \n",
            "Train Loss: 0.619998 Acc: 0.6546\n",
            "Elapsed 7812.00s, 190.54 s/epoch, 1.91 s/batch, ets 11241.66s\n",
            "\n",
            "Test set: Average loss: 0.6330, Accuracy: 377/600 (63%)\n",
            "\n",
            "Epoch: 41 \n",
            "Train Loss: 0.594506 Acc: 0.6813\n",
            "Elapsed 8003.96s, 190.57 s/epoch, 1.91 s/batch, ets 11053.09s\n",
            "\n",
            "Test set: Average loss: 0.6492, Accuracy: 371/600 (62%)\n",
            "\n",
            "Epoch: 42 \n",
            "Train Loss: 0.596873 Acc: 0.6633\n",
            "Elapsed 8195.97s, 190.60 s/epoch, 1.91 s/batch, ets 10864.42s\n",
            "\n",
            "Test set: Average loss: 0.8712, Accuracy: 353/600 (59%)\n",
            "\n",
            "Epoch: 43 \n",
            "Train Loss: 0.598053 Acc: 0.6750\n",
            "Elapsed 8388.01s, 190.64 s/epoch, 1.91 s/batch, ets 10675.65s\n",
            "\n",
            "Test set: Average loss: 0.6733, Accuracy: 373/600 (62%)\n",
            "\n",
            "Epoch: 44 \n",
            "Train Loss: 0.593576 Acc: 0.6675\n",
            "Elapsed 8579.37s, 190.65 s/epoch, 1.91 s/batch, ets 10485.90s\n",
            "\n",
            "Test set: Average loss: 0.6303, Accuracy: 405/600 (68%)\n",
            "\n",
            "Epoch: 45 \n",
            "Train Loss: 0.580992 Acc: 0.6946\n",
            "Elapsed 8771.05s, 190.68 s/epoch, 1.91 s/batch, ets 10296.45s\n",
            "\n",
            "Test set: Average loss: 0.6235, Accuracy: 398/600 (66%)\n",
            "\n",
            "Epoch: 46 \n",
            "Train Loss: 0.571759 Acc: 0.7050\n",
            "Elapsed 8962.89s, 190.70 s/epoch, 1.91 s/batch, ets 10107.09s\n",
            "\n",
            "Test set: Average loss: 1.2061, Accuracy: 350/600 (58%)\n",
            "\n",
            "Epoch: 47 \n",
            "Train Loss: 0.592268 Acc: 0.7008\n",
            "Elapsed 9154.65s, 190.72 s/epoch, 1.91 s/batch, ets 9917.53s\n",
            "\n",
            "Test set: Average loss: 0.7344, Accuracy: 383/600 (64%)\n",
            "\n",
            "Epoch: 48 \n",
            "Train Loss: 0.582421 Acc: 0.6992\n",
            "Elapsed 9346.48s, 190.74 s/epoch, 1.91 s/batch, ets 9727.97s\n",
            "\n",
            "Test set: Average loss: 0.6381, Accuracy: 396/600 (66%)\n",
            "\n",
            "Epoch: 49 \n",
            "Train Loss: 0.607873 Acc: 0.7075\n",
            "Elapsed 9537.53s, 190.75 s/epoch, 1.91 s/batch, ets 9537.53s\n",
            "\n",
            "Test set: Average loss: 0.6027, Accuracy: 417/600 (70%)\n",
            "\n",
            "Model Improved. Saving the Model...\n",
            "\n",
            "Epoch: 50 \n",
            "Train Loss: 0.557817 Acc: 0.7346\n",
            "Elapsed 9727.49s, 190.74 s/epoch, 1.91 s/batch, ets 9346.02s\n",
            "\n",
            "Test set: Average loss: 0.6180, Accuracy: 421/600 (70%)\n",
            "\n",
            "Epoch: 51 \n",
            "Train Loss: 0.556356 Acc: 0.7333\n",
            "Elapsed 9916.50s, 190.70 s/epoch, 1.91 s/batch, ets 9153.69s\n",
            "\n",
            "Test set: Average loss: 0.6902, Accuracy: 424/600 (71%)\n",
            "\n",
            "Epoch: 52 \n",
            "Train Loss: 0.530004 Acc: 0.7521\n",
            "Elapsed 10105.31s, 190.67 s/epoch, 1.91 s/batch, ets 8961.31s\n",
            "\n",
            "Test set: Average loss: 0.7556, Accuracy: 395/600 (66%)\n",
            "\n",
            "Epoch: 53 \n",
            "Train Loss: 0.509972 Acc: 0.7617\n",
            "Elapsed 10293.96s, 190.63 s/epoch, 1.91 s/batch, ets 8768.93s\n",
            "\n",
            "Test set: Average loss: 0.5986, Accuracy: 433/600 (72%)\n",
            "\n",
            "Model Improved. Saving the Model...\n",
            "\n",
            "Epoch: 54 \n",
            "Train Loss: 0.498759 Acc: 0.7633\n",
            "Elapsed 10484.78s, 190.63 s/epoch, 1.91 s/batch, ets 8578.45s\n",
            "\n",
            "Test set: Average loss: 0.8285, Accuracy: 431/600 (72%)\n",
            "\n",
            "Epoch: 55 \n",
            "Train Loss: 0.514527 Acc: 0.7638\n",
            "Elapsed 10673.58s, 190.60 s/epoch, 1.91 s/batch, ets 8386.38s\n",
            "\n",
            "Test set: Average loss: 0.5365, Accuracy: 447/600 (74%)\n",
            "\n",
            "Model Improved. Saving the Model...\n",
            "\n",
            "Epoch: 56 \n",
            "Train Loss: 0.503564 Acc: 0.7671\n",
            "Elapsed 10865.72s, 190.63 s/epoch, 1.91 s/batch, ets 8196.94s\n",
            "\n",
            "Test set: Average loss: 0.7015, Accuracy: 433/600 (72%)\n",
            "\n",
            "Epoch: 57 \n",
            "Train Loss: 0.495307 Acc: 0.7712\n",
            "Elapsed 11057.55s, 190.65 s/epoch, 1.91 s/batch, ets 8007.19s\n",
            "\n",
            "Test set: Average loss: 0.5911, Accuracy: 432/600 (72%)\n",
            "\n",
            "Epoch: 58 \n",
            "Train Loss: 0.496839 Acc: 0.7796\n",
            "Elapsed 11249.53s, 190.67 s/epoch, 1.91 s/batch, ets 7817.47s\n",
            "\n",
            "Test set: Average loss: 0.6320, Accuracy: 439/600 (73%)\n",
            "\n",
            "Epoch: 59 \n",
            "Train Loss: 0.493887 Acc: 0.7642\n",
            "Elapsed 11440.84s, 190.68 s/epoch, 1.91 s/batch, ets 7627.22s\n",
            "\n",
            "Test set: Average loss: 0.7264, Accuracy: 429/600 (72%)\n",
            "\n",
            "Epoch: 60 \n",
            "Train Loss: 0.470315 Acc: 0.7767\n",
            "Elapsed 11629.63s, 190.65 s/epoch, 1.91 s/batch, ets 7435.34s\n",
            "\n",
            "Test set: Average loss: 0.5919, Accuracy: 435/600 (72%)\n",
            "\n",
            "Epoch: 61 \n",
            "Train Loss: 0.465941 Acc: 0.8050\n",
            "Elapsed 11818.63s, 190.62 s/epoch, 1.91 s/batch, ets 7243.67s\n",
            "\n",
            "Test set: Average loss: 0.5456, Accuracy: 455/600 (76%)\n",
            "\n",
            "Epoch: 62 \n",
            "Train Loss: 0.470156 Acc: 0.7950\n",
            "Elapsed 12010.67s, 190.65 s/epoch, 1.91 s/batch, ets 7053.89s\n",
            "\n",
            "Test set: Average loss: 0.6150, Accuracy: 446/600 (74%)\n",
            "\n",
            "Epoch: 63 \n",
            "Train Loss: 0.431086 Acc: 0.8096\n",
            "Elapsed 12203.36s, 190.68 s/epoch, 1.91 s/batch, ets 6864.39s\n",
            "\n",
            "Test set: Average loss: 0.7702, Accuracy: 419/600 (70%)\n",
            "\n",
            "Epoch: 64 \n",
            "Train Loss: 0.443705 Acc: 0.8050\n",
            "Elapsed 12396.09s, 190.71 s/epoch, 1.91 s/batch, ets 6674.82s\n",
            "\n",
            "Test set: Average loss: 0.5766, Accuracy: 458/600 (76%)\n",
            "\n",
            "Epoch: 65 \n",
            "Train Loss: 0.443045 Acc: 0.8154\n",
            "Elapsed 12588.92s, 190.74 s/epoch, 1.91 s/batch, ets 6485.20s\n",
            "\n",
            "Test set: Average loss: 0.5775, Accuracy: 428/600 (71%)\n",
            "\n",
            "Epoch: 66 \n",
            "Train Loss: 0.414443 Acc: 0.8163\n",
            "Elapsed 12781.56s, 190.77 s/epoch, 1.91 s/batch, ets 6295.40s\n",
            "\n",
            "Test set: Average loss: 0.7184, Accuracy: 441/600 (74%)\n",
            "\n",
            "Epoch: 67 \n",
            "Train Loss: 0.397813 Acc: 0.8313\n",
            "Elapsed 12973.74s, 190.79 s/epoch, 1.91 s/batch, ets 6105.29s\n",
            "\n",
            "Test set: Average loss: 0.6454, Accuracy: 447/600 (74%)\n",
            "\n",
            "Epoch: 68 \n",
            "Train Loss: 0.400868 Acc: 0.8254\n",
            "Elapsed 13165.81s, 190.81 s/epoch, 1.91 s/batch, ets 5915.07s\n",
            "\n",
            "Test set: Average loss: 0.5467, Accuracy: 469/600 (78%)\n",
            "\n",
            "Epoch: 69 \n",
            "Train Loss: 0.416483 Acc: 0.8258\n",
            "Elapsed 13357.86s, 190.83 s/epoch, 1.91 s/batch, ets 5724.80s\n",
            "\n",
            "Test set: Average loss: 0.5627, Accuracy: 474/600 (79%)\n",
            "\n",
            "Epoch: 70 \n",
            "Train Loss: 0.414948 Acc: 0.8313\n",
            "Elapsed 13549.94s, 190.84 s/epoch, 1.91 s/batch, ets 5534.48s\n",
            "\n",
            "Test set: Average loss: 0.6782, Accuracy: 445/600 (74%)\n",
            "\n",
            "Epoch: 71 \n",
            "Train Loss: 0.402246 Acc: 0.8346\n",
            "Elapsed 13742.10s, 190.86 s/epoch, 1.91 s/batch, ets 5344.15s\n",
            "\n",
            "Test set: Average loss: 0.5530, Accuracy: 464/600 (77%)\n",
            "\n",
            "Epoch: 72 \n",
            "Train Loss: 0.365439 Acc: 0.8379\n",
            "Elapsed 13934.08s, 190.88 s/epoch, 1.91 s/batch, ets 5153.70s\n",
            "\n",
            "Test set: Average loss: 0.4924, Accuracy: 482/600 (80%)\n",
            "\n",
            "Model Improved. Saving the Model...\n",
            "\n",
            "Epoch: 73 \n",
            "Train Loss: 0.366530 Acc: 0.8592\n",
            "Elapsed 14127.92s, 190.92 s/epoch, 1.91 s/batch, ets 4963.86s\n",
            "\n",
            "Test set: Average loss: 0.5685, Accuracy: 476/600 (79%)\n",
            "\n",
            "Epoch: 74 \n",
            "Train Loss: 0.357150 Acc: 0.8483\n",
            "Elapsed 14320.00s, 190.93 s/epoch, 1.91 s/batch, ets 4773.33s\n",
            "\n",
            "Test set: Average loss: 0.5350, Accuracy: 468/600 (78%)\n",
            "\n",
            "Epoch: 75 \n",
            "Train Loss: 0.378221 Acc: 0.8588\n",
            "Elapsed 14511.96s, 190.95 s/epoch, 1.91 s/batch, ets 4582.72s\n",
            "\n",
            "Test set: Average loss: 0.5213, Accuracy: 481/600 (80%)\n",
            "\n",
            "Epoch: 76 \n",
            "Train Loss: 0.318123 Acc: 0.8708\n",
            "Elapsed 14704.06s, 190.96 s/epoch, 1.91 s/batch, ets 4392.12s\n",
            "\n",
            "Test set: Average loss: 0.6409, Accuracy: 461/600 (77%)\n",
            "\n",
            "Epoch: 77 \n",
            "Train Loss: 0.360304 Acc: 0.8546\n",
            "Elapsed 14896.06s, 190.98 s/epoch, 1.91 s/batch, ets 4201.45s\n",
            "\n",
            "Test set: Average loss: 0.5357, Accuracy: 475/600 (79%)\n",
            "\n",
            "Epoch: 78 \n",
            "Train Loss: 0.342041 Acc: 0.8538\n",
            "Elapsed 15088.12s, 190.99 s/epoch, 1.91 s/batch, ets 4010.77s\n",
            "\n",
            "Test set: Average loss: 0.5320, Accuracy: 466/600 (78%)\n",
            "\n",
            "Epoch: 79 \n",
            "Train Loss: 0.310925 Acc: 0.8796\n",
            "Elapsed 15280.16s, 191.00 s/epoch, 1.91 s/batch, ets 3820.04s\n",
            "\n",
            "Test set: Average loss: 0.6044, Accuracy: 451/600 (75%)\n",
            "\n",
            "Epoch: 80 \n",
            "Train Loss: 0.297820 Acc: 0.8854\n",
            "Elapsed 15472.20s, 191.01 s/epoch, 1.91 s/batch, ets 3629.28s\n",
            "\n",
            "Test set: Average loss: 0.5718, Accuracy: 492/600 (82%)\n",
            "\n",
            "Epoch: 81 \n",
            "Train Loss: 0.294127 Acc: 0.8788\n",
            "Elapsed 15664.24s, 191.03 s/epoch, 1.91 s/batch, ets 3438.49s\n",
            "\n",
            "Test set: Average loss: 0.4844, Accuracy: 479/600 (80%)\n",
            "\n",
            "Model Improved. Saving the Model...\n",
            "\n",
            "Epoch: 82 \n",
            "Train Loss: 0.314762 Acc: 0.8838\n",
            "Elapsed 15858.13s, 191.06 s/epoch, 1.91 s/batch, ets 3248.05s\n",
            "\n",
            "Test set: Average loss: 0.7109, Accuracy: 440/600 (73%)\n",
            "\n",
            "Epoch: 83 \n",
            "Train Loss: 0.312432 Acc: 0.8804\n",
            "Elapsed 16050.17s, 191.07 s/epoch, 1.91 s/batch, ets 3057.17s\n",
            "\n",
            "Test set: Average loss: 0.6092, Accuracy: 455/600 (76%)\n",
            "\n",
            "Epoch: 84 \n",
            "Train Loss: 0.325733 Acc: 0.8787\n",
            "Elapsed 16242.01s, 191.08 s/epoch, 1.91 s/batch, ets 2866.24s\n",
            "\n",
            "Test set: Average loss: 0.5221, Accuracy: 476/600 (79%)\n",
            "\n",
            "Epoch: 85 \n",
            "Train Loss: 0.275266 Acc: 0.8992\n",
            "Elapsed 16434.19s, 191.10 s/epoch, 1.91 s/batch, ets 2675.33s\n",
            "\n",
            "Test set: Average loss: 0.5872, Accuracy: 486/600 (81%)\n",
            "\n",
            "Epoch: 86 \n",
            "Train Loss: 0.292630 Acc: 0.8879\n",
            "Elapsed 16626.43s, 191.11 s/epoch, 1.91 s/batch, ets 2484.41s\n",
            "\n",
            "Test set: Average loss: 0.4386, Accuracy: 497/600 (83%)\n",
            "\n",
            "Model Improved. Saving the Model...\n",
            "\n",
            "Epoch: 87 \n",
            "Train Loss: 0.245618 Acc: 0.9071\n",
            "Elapsed 16820.39s, 191.14 s/epoch, 1.91 s/batch, ets 2293.69s\n",
            "\n",
            "Test set: Average loss: 0.5093, Accuracy: 493/600 (82%)\n",
            "\n",
            "Epoch: 88 \n",
            "Train Loss: 0.258894 Acc: 0.8992\n",
            "Elapsed 17012.40s, 191.15 s/epoch, 1.91 s/batch, ets 2102.66s\n",
            "\n",
            "Test set: Average loss: 0.4903, Accuracy: 500/600 (83%)\n",
            "\n",
            "Epoch: 89 \n",
            "Train Loss: 0.251435 Acc: 0.9029\n",
            "Elapsed 17204.42s, 191.16 s/epoch, 1.91 s/batch, ets 1911.60s\n",
            "\n",
            "Test set: Average loss: 0.4999, Accuracy: 505/600 (84%)\n",
            "\n",
            "Epoch: 90 \n",
            "Train Loss: 0.242201 Acc: 0.9054\n",
            "Elapsed 17396.61s, 191.17 s/epoch, 1.91 s/batch, ets 1720.54s\n",
            "\n",
            "Test set: Average loss: 0.5466, Accuracy: 487/600 (81%)\n",
            "\n",
            "Epoch: 91 \n",
            "Train Loss: 0.242792 Acc: 0.9071\n",
            "Elapsed 17588.65s, 191.18 s/epoch, 1.91 s/batch, ets 1529.45s\n",
            "\n",
            "Test set: Average loss: 0.5303, Accuracy: 488/600 (81%)\n",
            "\n",
            "Epoch: 92 \n",
            "Train Loss: 0.236557 Acc: 0.9171\n",
            "Elapsed 17780.70s, 191.19 s/epoch, 1.91 s/batch, ets 1338.33s\n",
            "\n",
            "Test set: Average loss: 0.4811, Accuracy: 506/600 (84%)\n",
            "\n",
            "Epoch: 93 \n",
            "Train Loss: 0.221039 Acc: 0.9183\n",
            "Elapsed 17972.74s, 191.20 s/epoch, 1.91 s/batch, ets 1147.20s\n",
            "\n",
            "Test set: Average loss: 0.6332, Accuracy: 480/600 (80%)\n",
            "\n",
            "Epoch: 94 \n",
            "Train Loss: 0.227155 Acc: 0.9146\n",
            "Elapsed 18164.83s, 191.21 s/epoch, 1.91 s/batch, ets 956.04s\n",
            "\n",
            "Test set: Average loss: 0.5130, Accuracy: 494/600 (82%)\n",
            "\n",
            "Epoch: 95 \n",
            "Train Loss: 0.217762 Acc: 0.9213\n",
            "Elapsed 18356.80s, 191.22 s/epoch, 1.91 s/batch, ets 764.87s\n",
            "\n",
            "Test set: Average loss: 0.5613, Accuracy: 479/600 (80%)\n",
            "\n",
            "Epoch: 96 \n",
            "Train Loss: 0.225744 Acc: 0.9158\n",
            "Elapsed 18548.81s, 191.22 s/epoch, 1.91 s/batch, ets 573.67s\n",
            "\n",
            "Test set: Average loss: 0.8141, Accuracy: 453/600 (76%)\n",
            "\n",
            "Epoch: 97 \n",
            "Train Loss: 0.235561 Acc: 0.9133\n",
            "Elapsed 18740.77s, 191.23 s/epoch, 1.91 s/batch, ets 382.46s\n",
            "\n",
            "Test set: Average loss: 0.6822, Accuracy: 458/600 (76%)\n",
            "\n",
            "Epoch: 98 \n",
            "Train Loss: 0.249104 Acc: 0.9108\n",
            "Elapsed 18932.76s, 191.24 s/epoch, 1.91 s/batch, ets 191.24s\n",
            "\n",
            "Test set: Average loss: 0.4989, Accuracy: 496/600 (83%)\n",
            "\n",
            "Epoch: 99 \n",
            "Train Loss: 0.213463 Acc: 0.9175\n",
            "Elapsed 19124.80s, 191.25 s/epoch, 1.91 s/batch, ets 0.00s\n",
            "\n",
            "Test set: Average loss: 0.5520, Accuracy: 502/600 (84%)\n",
            "\n",
            "Total time: 19138.66, Best Loss: 0.439\n"
          ],
          "name": "stdout"
        }
      ]
    },
    {
      "cell_type": "markdown",
      "metadata": {
        "id": "GH0mnNMGYD4v"
      },
      "source": [
        "## <font style=\"color:blue\">4.10. Loss and Accuracy Plot</font>"
      ]
    },
    {
      "cell_type": "code",
      "metadata": {
        "id": "TMLI_RoiYD4w",
        "colab": {
          "base_uri": "https://localhost:8080/",
          "height": 597
        },
        "outputId": "ae34b78f-187e-4c05-9e95-94f8095bfebf"
      },
      "source": [
        "plot_loss_accuracy(train_loss=[train_loss], \n",
        "                   val_loss=[val_loss], \n",
        "                   train_acc=[train_acc], \n",
        "                   val_acc=[val_acc], \n",
        "                   colors=['blue'], \n",
        "                   loss_legend_loc='upper center', \n",
        "                   acc_legend_loc='upper left')"
      ],
      "execution_count": null,
      "outputs": [
        {
          "output_type": "display_data",
          "data": {
            "image/png": "[encoded data removed]",
            "text/plain": [
              "<Figure size 1440x720 with 2 Axes>"
            ]
          },
          "metadata": {
            "tags": []
          }
        }
      ]
    },
    {
      "cell_type": "markdown",
      "metadata": {
        "id": "r2u1nUdzYD4y"
      },
      "source": [
        "# <font style=\"color:blue\">5. Sample Prediction</font>\n",
        "\n",
        "Show some sample predictions."
      ]
    },
    {
      "cell_type": "markdown",
      "metadata": {
        "id": "c_eFOLNaYD4z"
      },
      "source": [
        "## <font style=\"color:blue\">5.1. Make Predictions</font>"
      ]
    },
    {
      "cell_type": "code",
      "metadata": {
        "id": "kpLzrTu6YD4z"
      },
      "source": [
        "def prediction(model, device, batch_input):\n",
        "    \n",
        "    # send model to cpu/cuda according to your system configuration\n",
        "    model.to(device)\n",
        "    \n",
        "    # it is important to do model.eval() before prediction\n",
        "    model.eval()\n",
        "\n",
        "    data = batch_input.to(device)\n",
        "\n",
        "    output = model(data)\n",
        "\n",
        "    # Score to probability using softmax\n",
        "    prob = F.softmax(output, dim=1)\n",
        "\n",
        "    # get the max probability\n",
        "    pred_prob = prob.data.max(dim=1)[0]\n",
        "    \n",
        "    # get the index of the max probability\n",
        "    pred_index = prob.data.max(dim=1)[1]\n",
        "    \n",
        "    return pred_index.cpu().numpy(), pred_prob.cpu().numpy()"
      ],
      "execution_count": null,
      "outputs": []
    },
    {
      "cell_type": "markdown",
      "metadata": {
        "id": "62c_eHiGYD42"
      },
      "source": [
        "## <font style=\"color:blue\">5.2. Get predictions on a batch</font>"
      ]
    },
    {
      "cell_type": "code",
      "metadata": {
        "id": "ZIEn3As8YD42"
      },
      "source": [
        "def get_sample_prediction(model, data_root, mean, std):\n",
        "    batch_size = 15\n",
        "\n",
        "    if torch.cuda.is_available():\n",
        "        device = \"cuda\"\n",
        "        num_workers = 8\n",
        "    else:\n",
        "        device = \"cpu\"\n",
        "        num_workers = 2\n",
        "        \n",
        "        \n",
        "    \n",
        "    # transformed data\n",
        "    test_dataset_trans = datasets.ImageFolder(root=data_root, transform=image_common_transforms(mean, std))\n",
        "    \n",
        "    # original image dataset\n",
        "    test_dataset = datasets.ImageFolder(root=data_root, transform=image_preprocess_transforms())\n",
        "    \n",
        "    data_len = test_dataset.__len__()\n",
        "    # print (\"data_len:\", data_len)\n",
        "    \n",
        "    interval = int(data_len/batch_size)\n",
        "    \n",
        "    imgs = []\n",
        "    inputs = []\n",
        "    targets = []\n",
        "    for i in range(batch_size):\n",
        "        index = i * interval\n",
        "        trans_input, target = test_dataset_trans.__getitem__(index)\n",
        "        img, _ = test_dataset.__getitem__(index)\n",
        "        \n",
        "        imgs.append(img)\n",
        "        inputs.append(trans_input)\n",
        "        targets.append(target)\n",
        "        \n",
        "    inputs = torch.stack(inputs)\n",
        "        \n",
        "    cls, prob = prediction(model, device, batch_input=inputs)\n",
        "    \n",
        "    plt.style.use('default')\n",
        "    plt.rcParams[\"figure.figsize\"] = (15, 9)\n",
        "    fig = plt.figure()\n",
        "    \n",
        "    \n",
        "    for i, target in enumerate(targets):\n",
        "        plt.subplot(3, 5, i+1)\n",
        "        img = transforms.functional.to_pil_image(imgs[i])\n",
        "        plt.imshow(img)\n",
        "        plt.gca().set_title('P:{0}({1:.2}), T:{2}'.format(test_dataset.classes[cls[i]], \n",
        "                                                     prob[i], \n",
        "                                                     test_dataset.classes[targets[i]]))\n",
        "    fig.savefig('sample_prediction.png')\n",
        "    plt.show()\n",
        "    \n",
        "    return\n",
        "        \n",
        "    "
      ],
      "execution_count": null,
      "outputs": []
    },
    {
      "cell_type": "code",
      "metadata": {
        "id": "GwRARCvVyZ07"
      },
      "source": [
        "def get_full_prediction(model, data_root, mean, std):\n",
        "    batch_size = 15\n",
        "\n",
        "    if torch.cuda.is_available():\n",
        "        device = \"cuda\"\n",
        "        num_workers = 8\n",
        "    else:\n",
        "        device = \"cpu\"\n",
        "        num_workers = 2\n",
        "                   \n",
        "    # transformed data\n",
        "    test_dataset_trans = datasets.ImageFolder(root=data_root, transform=image_common_transforms(mean, std))\n",
        "    \n",
        "    # original image dataset\n",
        "    test_dataset = datasets.ImageFolder(root=data_root, transform=image_preprocess_transforms())\n",
        "    \n",
        "    data_len = test_dataset.__len__()\n",
        "    # print (\"data_len:\", data_len)\n",
        "    \n",
        "    interval = int(data_len/batch_size)\n",
        "    \n",
        "    imgs = []\n",
        "    inputs = []\n",
        "    targets = []\n",
        "    for i in range(data_len):\n",
        "        index = i #* interval\n",
        "        trans_input, target = test_dataset_trans.__getitem__(index)\n",
        "        img, _ = test_dataset.__getitem__(index)\n",
        "        \n",
        "        imgs.append(img)\n",
        "        inputs.append(trans_input)\n",
        "        targets.append(target)\n",
        "        \n",
        "    inputs = torch.stack(inputs)\n",
        "\n",
        "    classes = []  \n",
        "    probs = []  \n",
        "    for i in range(0, data_len, batch_size):\n",
        "        batch_ip= inputs[i:i+batch_size]\n",
        "        cls, prob = prediction(model, device, batch_input=batch_ip)\n",
        "        classes.append(cls)\n",
        "        probs.append(prob)\n",
        "\n",
        "    return targets, probs, classes\n",
        "        \n",
        "    "
      ],
      "execution_count": null,
      "outputs": []
    },
    {
      "cell_type": "markdown",
      "metadata": {
        "id": "7uoy-stRYD46"
      },
      "source": [
        "## <font style=\"color:blue\">5.3. Load Model and Run Inference</font>"
      ]
    },
    {
      "cell_type": "code",
      "metadata": {
        "id": "nuZlGFsmYD47",
        "colab": {
          "base_uri": "https://localhost:8080/",
          "height": 34
        },
        "outputId": "178a0b5f-d316-4dc1-bff9-44688975eb81"
      },
      "source": [
        "m = LargeModel(0.2, batch_norm=True)\n",
        "m = load_model(m)\n",
        "\n",
        "train_config = TrainingConfiguration()\n",
        "\n",
        "test_data_path = os.path.join(train_config.data_root, 'validation')\n",
        "\n",
        "train_data_path = os.path.join(train_config.data_root, 'training')\n",
        "\n",
        "mean, std = get_mean_std(train_data_path)\n",
        "\n",
        "\n",
        "# get_sample_prediction(m, test_data_path, mean, std)\n",
        "targets, probs, classes = get_full_prediction(m, test_data_path, mean, std)\n"
      ],
      "execution_count": null,
      "outputs": [
        {
          "output_type": "stream",
          "text": [
            "mean: tensor([0.4610, 0.4347, 0.3897]), std: tensor([0.2400, 0.2356, 0.2306])\n"
          ],
          "name": "stdout"
        }
      ]
    },
    {
      "cell_type": "code",
      "metadata": {
        "id": "aB-I6LVFTK6C"
      },
      "source": [
        "import itertools\n",
        "y_prob = list(itertools.chain.from_iterable(probs))\n",
        "y_pred = list(itertools.chain.from_iterable(classes))\n",
        "\n",
        "# print (\"Y Probablity: \\n\", y_prob)\n",
        "# print (\"Y Predictions: \\n\", y_pred)\n",
        "# print (\"targets: \\n\", targets)\n"
      ],
      "execution_count": null,
      "outputs": []
    },
    {
      "cell_type": "markdown",
      "metadata": {
        "id": "L0urPP-lYD4_"
      },
      "source": [
        "You can see that even though the network is trained on a very small subset if data, the predictions are not that bad. This means that our model is ready to be trained."
      ]
    },
    {
      "cell_type": "markdown",
      "metadata": {
        "id": "c6GqXiwgYD5A"
      },
      "source": [
        "# <font style=\"color:red\">6. Display Confusion Matrix [10 Points]</font>\n",
        "Display the confusion matrix for the above problem. You can refer to the earlier lectures on Performance metrics for reference.\n",
        "\n",
        "The output should something similar to this:\n",
        "\n",
        "<img src='https://www.learnopencv.com/wp-content/uploads/2020/02/c3_w5_sample_confusion_matrix.png' width=600>\n"
      ]
    },
    {
      "cell_type": "code",
      "metadata": {
        "id": "KNpOS5MMYD5B"
      },
      "source": [
        "# YOUR CODE HERE\n",
        "class ConfusionMatrix:\n",
        "    def __init__(self):\n",
        "        # init confusion matrix\n",
        "        self.conf = np.ndarray((3, 3), np.int32)\n",
        "\n",
        "    def reset(self):\n",
        "        # reset to zero\n",
        "        self.conf.fill(0)\n",
        "\n",
        "    def add(self, target, pred):\n",
        "        \"\"\"\n",
        "        This will take predicted probability and True label and compute confusion matrix\n",
        "        \"\"\"\n",
        "        replace_indices = np.vstack((target.flatten(), pred.flatten())).T\n",
        "\n",
        "        conf, _ = np.histogramdd(replace_indices, bins=(3, 3), range=[(0, 3), (0, 3)])\n",
        "\n",
        "        self.conf += conf.astype(np.int32)\n",
        "\n",
        "    def CC(self):\n",
        "        return self.conf[0, 0]\n",
        "    \n",
        "    def CD(self):\n",
        "        return self.conf[0, 1]\n",
        "    \n",
        "    def CP(self):\n",
        "        return self.conf[0, 2]\n",
        "    \n",
        "    def DC(self):\n",
        "        return self.conf[1, 0]\n",
        "    \n",
        "    def DD(self):\n",
        "        return self.conf[1, 1]\n",
        "    \n",
        "    def DP(self):\n",
        "        return self.conf[1, 2]\n",
        "    \n",
        "    def PC(self):\n",
        "        return self.conf[2, 0]\n",
        "    \n",
        "    def PD(self):\n",
        "        return self.conf[2, 1]\n",
        "    \n",
        "    def PP(self):\n",
        "        return self.conf[2, 2]\n",
        "    \n",
        "    \n",
        "    def confusion_matrix(self):\n",
        "        \"\"\"\n",
        "        get confusion matrix as defined in figure\n",
        "        \"\"\"\n",
        "        cm = np.array([[self.CC(), self.CD(), self.CP()],\n",
        "                      [self.DC(), self.DD(), self.DP()],\n",
        "                      [self.PC(), self.PD(), self.PP()]])\n",
        "        return cm"
      ],
      "execution_count": null,
      "outputs": []
    },
    {
      "cell_type": "code",
      "metadata": {
        "id": "7o2saaHT10gx"
      },
      "source": [
        "y_target = np.asarray(targets)\n",
        "y_predicted = np.asarray(y_pred)"
      ],
      "execution_count": null,
      "outputs": []
    },
    {
      "cell_type": "code",
      "metadata": {
        "id": "4zChzBv3u66U"
      },
      "source": [
        "cm = ConfusionMatrix()\n",
        "\n",
        "# reset cunfusion matrix\n",
        "cm.reset()\n",
        "\n",
        "# compute confusion matrix\n",
        "cm.add(y_target, y_predicted)\n",
        "\n",
        "CM= cm.confusion_matrix()\n",
        "\n",
        "# print('Confusion Matrix :\\n{}'.format(CM))"
      ],
      "execution_count": null,
      "outputs": []
    },
    {
      "cell_type": "code",
      "metadata": {
        "id": "t98jc4NWko9k"
      },
      "source": [
        ""
      ],
      "execution_count": null,
      "outputs": []
    },
    {
      "cell_type": "code",
      "metadata": {
        "id": "w_xFMLDmfd4g"
      },
      "source": [
        "def plot_confusion_matrix(cm, classes,\n",
        "                          normalize=False,\n",
        "                          title='Confusion matrix',\n",
        "                          cmap=plt.cm.Reds):\n",
        "    \"\"\"\n",
        "    This function prints and plots the confusion matrix.\n",
        "    Normalization can be applied by setting `normalize=True`.\n",
        "    \"\"\"\n",
        "    plt.imshow(cm, interpolation='nearest', cmap=cmap)\n",
        "    plt.title(title)\n",
        "    plt.colorbar()\n",
        "    tick_marks = np.arange(len(classes))\n",
        "    plt.xticks(tick_marks, classes, rotation=45)\n",
        "    plt.yticks(tick_marks, classes)\n",
        "\n",
        "    if normalize:\n",
        "        cm = cm.astype('float') / cm.sum(axis=1)[:, np.newaxis]\n",
        "        print(\"Normalized confusion matrix\")\n",
        "    else:\n",
        "        print('Confusion matrix, without normalization')\n",
        "\n",
        "    print(cm)\n",
        "\n",
        "    thresh = cm.max() / 2.\n",
        "    for i, j in itertools.product(range(cm.shape[0]), range(cm.shape[1])):\n",
        "        plt.text(j, i, cm[i, j],\n",
        "                 horizontalalignment=\"center\",\n",
        "                 color=\"white\" if cm[i, j] > thresh else \"black\")\n",
        "\n",
        "    plt.tight_layout()\n",
        "    plt.ylabel('True label')\n",
        "    plt.xlabel('Predicted label')\n",
        "\n"
      ],
      "execution_count": null,
      "outputs": []
    },
    {
      "cell_type": "code",
      "metadata": {
        "id": "1TEuTzpfjBkM",
        "colab": {
          "base_uri": "https://localhost:8080/",
          "height": 526
        },
        "outputId": "234235b8-bca3-46ed-fa5b-a3e43bca3096"
      },
      "source": [
        "from sklearn.metrics import confusion_matrix\n",
        "\n",
        "# Compute confusion matrix\n",
        "cnf_matrix = confusion_matrix(y_target, y_predicted)\n",
        "np.set_printoptions(precision=2)\n",
        "\n",
        "# Plot non-normalized confusion matrix\n",
        "plt.figure(figsize=(8, 6))\n",
        "plot_confusion_matrix(cnf_matrix, classes=['Cat', 'Dog', 'Panda'])\n",
        "plt.show()"
      ],
      "execution_count": null,
      "outputs": [
        {
          "output_type": "stream",
          "text": [
            "Confusion matrix, without normalization\n",
            "[[173  27   0]\n",
            " [ 39 159   2]\n",
            " [ 10   8 182]]\n"
          ],
          "name": "stdout"
        },
        {
          "output_type": "display_data",
          "data": {
            "image/png": "[encoded data removed]",
            "text/plain": [
              "<Figure size 576x432 with 2 Axes>"
            ]
          },
          "metadata": {
            "tags": []
          }
        }
      ]
    },
    {
      "cell_type": "markdown",
      "metadata": {
        "id": "sv6uKAIgYD5F"
      },
      "source": [
        "After you have completed the assignment, <font style=\"color:red\">upload and submit the 2 notebooks and the models folder</font> on the portal so that we can check and provide feedback."
      ]
    },
    {
      "cell_type": "code",
      "metadata": {
        "id": "H61pc9uliwvn"
      },
      "source": [
        ""
      ],
      "execution_count": null,
      "outputs": []
    }
  ]
}